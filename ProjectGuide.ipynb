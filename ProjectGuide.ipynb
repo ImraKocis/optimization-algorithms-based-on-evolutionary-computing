{
 "nbformat": 4,
 "nbformat_minor": 0,
 "metadata": {
  "colab": {
   "provenance": []
  },
  "kernelspec": {
   "name": "python3",
   "language": "python",
   "display_name": "Python 3 (ipykernel)"
  },
  "language_info": {
   "name": "python"
  }
 },
 "cells": [
  {
   "cell_type": "markdown",
   "source": [
    "<h1> Basic information About The Project: </h1>\n",
    "<p> This is a template file for Optimization Algorithms Based on Evolutionary Computing. Please read all the instruction before starting the project. </p>\n",
    "<p> You can finish entire project in this file, or you can use this file as guide and submit separated scripts</p>\n",
    "<h3> You can achieve maximum points (80) only on first exam period </h3>\n",
    "<p> Second Exam period is -5 points (1.25 points per LO) (max 75) </p>\n",
    "<p>  Third Exam period is -10 points (1.25 points per LO)(max 70) </p>\n",
    "<p>  Fourth Exam period is -15 points (1.25 points per LO) (max 65) </p>\n",
    "\n",
    "\n",
    "---\n",
    "\n",
    "\n",
    "<h3> Project Points distribution (80 points in total) </h3>\n",
    "<table>\n",
    "    <thead>\n",
    "        <tr>\n",
    "            <th>Task</th>\n",
    "            <th>Points LO1</th>\n",
    "            <th>Points LO2</th>\n",
    "            <th>Points LO3</th>\n",
    "            <th>Points LO4</th>\n",
    "            <th>Total Points</th>\n",
    "            <th>Question Title</th>\n",
    "        </tr>\n",
    "    </thead>\n",
    "    <tbody>\n",
    "        <tr>\n",
    "            <td>Task 1</td>\n",
    "            <td>0.5</td>\n",
    "            <td>1</td>\n",
    "            <td>1</td>\n",
    "            <td>0</td>\n",
    "            <td>2.5</td>\n",
    "            <td>Task 1. Implement Hill-Climber Algorithm</td>\n",
    "        </tr>\n",
    "        <tr>\n",
    "            <td>Task 2</td>\n",
    "            <td>1</td>\n",
    "            <td>1</td>\n",
    "            <td>1</td>\n",
    "            <td>1</td>\n",
    "            <td>4</td>\n",
    "            <td>Task 2. Evaluate time complexity</td>\n",
    "        </tr>\n",
    "        <tr>\n",
    "            <td>Task 3</td>\n",
    "            <td>0.5</td>\n",
    "            <td>3</td>\n",
    "            <td>3</td>\n",
    "            <td>0</td>\n",
    "            <td>6.5</td>\n",
    "            <td>Task 3. Implement Simulated Annealing</td>\n",
    "        </tr>\n",
    "        <tr>\n",
    "            <td>Task 4</td>\n",
    "            <td>1</td>\n",
    "            <td>1</td>\n",
    "            <td>1</td>\n",
    "            <td>1</td>\n",
    "            <td>4</td>\n",
    "            <td>Task 4. Evaluate implemented temperature schedulers</td>\n",
    "        </tr>\n",
    "        <tr>\n",
    "            <td>Task 5</td>\n",
    "            <td>1</td>\n",
    "            <td>3</td>\n",
    "            <td>3</td>\n",
    "            <td>0</td>\n",
    "            <td>7</td>\n",
    "            <td>Task 5. Implement Particle Swarm Optimization algorithm</td>\n",
    "        </tr>\n",
    "        <tr>\n",
    "            <td>Task 6</td>\n",
    "            <td>0.5</td>\n",
    "            <td>1</td>\n",
    "            <td>1</td>\n",
    "            <td>0.5</td>\n",
    "            <td>3</td>\n",
    "            <td>Task 6. Experiment with C1 and C2 hyperparameters</td>\n",
    "        </tr>\n",
    "        <tr>\n",
    "            <td>Task 7</td>\n",
    "            <td>0.5</td>\n",
    "            <td>1</td>\n",
    "            <td>1</td>\n",
    "            <td>0.5</td>\n",
    "            <td>3</td>\n",
    "            <td>Task 7. Experiment with C1=0 and C2=1</td>\n",
    "        </tr>\n",
    "        <tr>\n",
    "            <td>Task 8</td>\n",
    "            <td>1</td>\n",
    "            <td>3</td>\n",
    "            <td>3</td>\n",
    "            <td>1</td>\n",
    "            <td>8</td>\n",
    "            <td>Task 8. Implement Ant Colony Optimization</td>\n",
    "        </tr>\n",
    "        <tr>\n",
    "            <td>Task 9</td>\n",
    "            <td>1</td>\n",
    "            <td>2</td>\n",
    "            <td>2</td>\n",
    "            <td>1</td>\n",
    "            <td>6</td>\n",
    "            <td>Task 9. Experiment with Ant Colony Optimization</td>\n",
    "        </tr>\n",
    "        <tr>\n",
    "            <td>Task 10</td>\n",
    "            <td>0</td>\n",
    "            <td>1</td>\n",
    "            <td>1</td>\n",
    "            <td>1</td>\n",
    "            <td>3</td>\n",
    "            <td>Task 10. Implement Genetic Algorithm (GA) Optimization</td>\n",
    "        </tr>\n",
    "        <tr>\n",
    "            <td>Task 11</td>\n",
    "            <td>1</td>\n",
    "            <td>1</td>\n",
    "            <td>1</td>\n",
    "            <td>1</td>\n",
    "            <td>4</td>\n",
    "            <td>Task 11. Experiment with Genetic Algorithm (GA) Optimization Hyperparameters</td>\n",
    "        </tr>\n",
    "        <tr>\n",
    "            <td>Task 12</td>\n",
    "            <td>0</td>\n",
    "            <td>1</td>\n",
    "            <td>1</td>\n",
    "            <td>0</td>\n",
    "            <td>2</td>\n",
    "            <td>Task 12. Use pyGAD library</td>\n",
    "        </tr>\n",
    "        <tr>\n",
    "            <td>Task 13</td>\n",
    "            <td>0</td>\n",
    "            <td>2</td>\n",
    "            <td>2</td>\n",
    "            <td>0</td>\n",
    "            <td>4</td>\n",
    "            <td>Task 13. The Needleman-Wunsch Algorithm</td>\n",
    "        </tr>\n",
    "        <tr>\n",
    "            <td>Task 14</td>\n",
    "            <td>1</td>\n",
    "            <td>0</td>\n",
    "            <td>0</td>\n",
    "            <td>1</td>\n",
    "            <td>2</td>\n",
    "            <td>Task 14. Time complexity of The Needleman-Wunsch Algorithm</td>\n",
    "        </tr>\n",
    "        <tr>\n",
    "            <td>Task 15</td>\n",
    "            <td>0</td>\n",
    "            <td>1</td>\n",
    "            <td>1</td>\n",
    "            <td>1</td>\n",
    "            <td>3</td>\n",
    "            <td>Task 15. Implement basic Gradient Descent</td>\n",
    "        </tr>\n",
    "        <tr>\n",
    "            <td>Task 16</td>\n",
    "            <td>1</td>\n",
    "            <td>1</td>\n",
    "            <td>1</td>\n",
    "            <td>1</td>\n",
    "            <td>4</td>\n",
    "            <td>Task 16. Experiment basic Gradient Descent</td>\n",
    "        </tr>\n",
    "        <tr>\n",
    "            <td>Task 17</td>\n",
    "            <td>1</td>\n",
    "            <td>2</td>\n",
    "            <td>2</td>\n",
    "            <td>1</td>\n",
    "            <td>6</td>\n",
    "            <td>Task 17. The end game - part 1</td>\n",
    "        </tr>\n",
    "        <tr>\n",
    "            <td>Task 18</td>\n",
    "            <td>1</td>\n",
    "            <td>3</td>\n",
    "            <td>3</td>\n",
    "            <td>1</td>\n",
    "            <td>8</td>\n",
    "            <td>Task 18. The end game - part 2</td>\n",
    "        </tr>\n",
    "        <tr>\n",
    "            <td><strong>Total Project Points</strong></td>\n",
    "            <td><strong>12</strong></td>\n",
    "            <td><strong>28</strong></td>\n",
    "            <td><strong>28</strong></td>\n",
    "            <td><strong>12</strong></td>\n",
    "            <td><strong>80</strong></td>\n",
    "            <td></td>\n",
    "        </tr>\n",
    "    </tbody>\n",
    "</table>\n",
    "\n",
    "\n",
    "---\n",
    "\n",
    "\n",
    "<h3> Project Defense Tips: </h3>\n",
    "\n",
    "*   You do not have to use this file. You can have each task in separated file or 2 tasks in the same file, grouped by the topic. Up to you...\n",
    "*   You have to understand your code\n",
    "*   You have to be able to point to specific functionality of your code. For example, how do you compute acceptance probability? Point to function and explain\n",
    "*   You can answer on question by showing the plots you made. Make sure they are informative, because they will help you on project defense\n",
    "*   You have to use appropriate terminology, based on lectures and exercises.\n",
    "*   All algorithm implementations should work in multi-dimensional space even if example objective function is one-dimensional. The idea is that your implementation can work with any objective function.\n",
    "\n",
    "\n",
    "<h3> How will your project be graded? </h3>\n",
    "\n",
    "*   The solution that does not run will result with 0 points\n",
    "*   Within each task, read all the questions as they contribute to LO points\n",
    "*   If you do not understand your implementation, we will assume chatGPT (or other copy-pasting) which will result with disciplinary committee hearing\n"
   ],
   "metadata": {
    "id": "Tc0B9sJSRemh"
   }
  },
  {
   "cell_type": "markdown",
   "source": [
    "<h2>Task 1. Implement Hill-Climber Algorithm </h2> which is capable of solving N-dimensional problem. In the code block you can find example objective functions. Feel free to use any multi-dimensional objective function. The idea is that your implementation works the same for 1-dim and N-dim objective functions."
   ],
   "metadata": {
    "id": "t8V-UzOFTXw9"
   }
  },
  {
   "cell_type": "code",
   "outputs": [],
   "source": [
    "# imports\n",
    "import numpy as np\n",
    "import matplotlib.pyplot as plt\n",
    "from utils.objective_functions import rastrigin_objective_function"
   ],
   "metadata": {
    "collapsed": false,
    "ExecuteTime": {
     "end_time": "2025-05-27T20:51:45.997646Z",
     "start_time": "2025-05-27T20:51:45.993920Z"
    }
   },
   "execution_count": 5
  },
  {
   "cell_type": "code",
   "outputs": [],
   "source": [
    "# Objective functions\n",
    "from utils.rastrigin_plotter import plot_rastrigin\n",
    "\n",
    "plot_rastrigin()"
   ],
   "metadata": {
    "collapsed": false
   }
  },
  {
   "cell_type": "code",
   "execution_count": 1,
   "metadata": {
    "id": "Kej6DAx7Rbpn",
    "ExecuteTime": {
     "end_time": "2025-05-19T15:10:50.200652Z",
     "start_time": "2025-05-19T15:10:29.170331Z"
    }
   },
   "outputs": [
    {
     "data": {
      "text/plain": "<Figure size 1500x1000 with 2 Axes>",
      "image/png": "[encoded data removed]"
     },
     "metadata": {},
     "output_type": "display_data"
    },
    {
     "name": "stdout",
     "output_type": "stream",
     "text": [
      "\n",
      "Time Complexity Table:\n"
     ]
    },
    {
     "data": {
      "text/plain": "   input_size_max_iter  input_size_local_search  time_max_iter (s)  \\\n0                  100                       50           0.002000   \n1                  200                      100           0.002032   \n2                  300                      150           0.003581   \n3                  400                      200           0.003520   \n4                  500                      250           0.003996   \n5                  600                      300           0.004531   \n6                  700                      350           0.040118   \n7                  800                      400           0.006000   \n8                  900                      450           0.006532   \n9                 1000                      500           0.007554   \n\n   time_local_search (s)  time_total (s)  \n0               0.052018        0.053535  \n1               0.203211        0.205616  \n2               0.462617        0.465651  \n3               0.822422        0.824422  \n4               1.275096        1.279237  \n5               1.839655        1.851115  \n6               2.693378        2.701444  \n7               3.283761        3.292334  \n8               4.144713        4.148692  \n9               5.137093        5.149574  ",
      "text/html": "<div>\n<style scoped>\n    .dataframe tbody tr th:only-of-type {\n        vertical-align: middle;\n    }\n\n    .dataframe tbody tr th {\n        vertical-align: top;\n    }\n\n    .dataframe thead th {\n        text-align: right;\n    }\n</style>\n<table border=\"1\" class=\"dataframe\">\n  <thead>\n    <tr style=\"text-align: right;\">\n      <th></th>\n      <th>input_size_max_iter</th>\n      <th>input_size_local_search</th>\n      <th>time_max_iter (s)</th>\n      <th>time_local_search (s)</th>\n      <th>time_total (s)</th>\n    </tr>\n  </thead>\n  <tbody>\n    <tr>\n      <th>0</th>\n      <td>100</td>\n      <td>50</td>\n      <td>0.002000</td>\n      <td>0.052018</td>\n      <td>0.053535</td>\n    </tr>\n    <tr>\n      <th>1</th>\n      <td>200</td>\n      <td>100</td>\n      <td>0.002032</td>\n      <td>0.203211</td>\n      <td>0.205616</td>\n    </tr>\n    <tr>\n      <th>2</th>\n      <td>300</td>\n      <td>150</td>\n      <td>0.003581</td>\n      <td>0.462617</td>\n      <td>0.465651</td>\n    </tr>\n    <tr>\n      <th>3</th>\n      <td>400</td>\n      <td>200</td>\n      <td>0.003520</td>\n      <td>0.822422</td>\n      <td>0.824422</td>\n    </tr>\n    <tr>\n      <th>4</th>\n      <td>500</td>\n      <td>250</td>\n      <td>0.003996</td>\n      <td>1.275096</td>\n      <td>1.279237</td>\n    </tr>\n    <tr>\n      <th>5</th>\n      <td>600</td>\n      <td>300</td>\n      <td>0.004531</td>\n      <td>1.839655</td>\n      <td>1.851115</td>\n    </tr>\n    <tr>\n      <th>6</th>\n      <td>700</td>\n      <td>350</td>\n      <td>0.040118</td>\n      <td>2.693378</td>\n      <td>2.701444</td>\n    </tr>\n    <tr>\n      <th>7</th>\n      <td>800</td>\n      <td>400</td>\n      <td>0.006000</td>\n      <td>3.283761</td>\n      <td>3.292334</td>\n    </tr>\n    <tr>\n      <th>8</th>\n      <td>900</td>\n      <td>450</td>\n      <td>0.006532</td>\n      <td>4.144713</td>\n      <td>4.148692</td>\n    </tr>\n    <tr>\n      <th>9</th>\n      <td>1000</td>\n      <td>500</td>\n      <td>0.007554</td>\n      <td>5.137093</td>\n      <td>5.149574</td>\n    </tr>\n  </tbody>\n</table>\n</div>"
     },
     "execution_count": 1,
     "metadata": {},
     "output_type": "execute_result"
    }
   ],
   "source": [
    "\n",
    "\n",
    "from algorithms.hill_climber.hill_climber import hill_climber\n",
    "\n",
    "# constants\n",
    "dimensions = 2\n",
    "bounds = np.array([[-5.12, 5.12]] * dimensions)\n",
    "\n",
    "best_sol, best_val, history = hill_climber(rastrigin_objective_function, dimensions, bounds, n_iterations=1000, step_size=0.5, candidates_per_iteration=500)\n",
    "\n",
    "print(f'Best solution: {best_sol}')\n",
    "print(f'Best value: {best_val}')\n",
    "\n",
    "plt.plot(history)\n",
    "plt.title(\"Optimization Progress\")\n",
    "plt.xlabel(\"Iteration\")\n",
    "plt.ylabel(\"Best Value\")\n",
    "plt.show()"
   ]
  },
  {
   "cell_type": "markdown",
   "source": [
    "<h2> Task 2. Evaluate time complexity</h2> of your Hill-Climber implementation. This include varying the input size from, for example, 1 to 10000 ( you might need more) and record the running time each time. You can use this implementation for all time complexity evaluations later in the project. This should result in a similar table: <br>\n",
    "<h2 style=\"text-align: center;\">Time Complexity Evaluation Table</h2>\n",
    "<table>\n",
    "    <tr>\n",
    "        <th>input_size_max_iter</th>\n",
    "        <th>input_size_local_search</th>\n",
    "        <th>time_max_iter (s)</th>\n",
    "        <th>time_local_search (s)</th>\n",
    "        <th>total_time (s)</th>\n",
    "    </tr>\n",
    "    <tr>\n",
    "        <td>100</td>\n",
    "        <td>50</td>\n",
    "        <td>0.12</td>\n",
    "        <td>0.05</td>\n",
    "        <td>0.17</td>\n",
    "    </tr>\n",
    "    <tr>\n",
    "        <td>200</td>\n",
    "        <td>100</td>\n",
    "        <td>0.25</td>\n",
    "        <td>0.09</td>\n",
    "        <td>0.34</td>\n",
    "    </tr>\n",
    "    <tr>\n",
    "        <td>300</td>\n",
    "        <td>150</td>\n",
    "        <td>0.38</td>\n",
    "        <td>0.12</td>\n",
    "        <td>0.50</td>\n",
    "    </tr>\n",
    "    <tr>\n",
    "        <td>400</td>\n",
    "        <td>200</td>\n",
    "        <td>0.51</td>\n",
    "        <td>0.15</td>\n",
    "        <td>0.66</td>\n",
    "    </tr>\n",
    "    <tr>\n",
    "        <td>500</td>\n",
    "        <td>250</td>\n",
    "        <td>0.70</td>\n",
    "        <td>0.19</td>\n",
    "        <td>0.89</td>\n",
    "    </tr>\n",
    "    <tr>\n",
    "        <td>600</td>\n",
    "        <td>300</td>\n",
    "        <td>0.85</td>\n",
    "        <td>0.24</td>\n",
    "        <td>1.09</td>\n",
    "    </tr>\n",
    "    <tr><td>....</td></tr>\n",
    "</table>\n",
    "Create line plots indicating O(m*n) time complexity, where m is max iter and n is local search iteration. You can compute \"growth rate\" of time between each i-th and i-1-th iteration and prove they are increased by m*n\n"
   ],
   "metadata": {
    "id": "B154_AMTVQrP"
   }
  },
  {
   "cell_type": "code",
   "source": [
    "from algorithms.hill_climber.evaluate_hill_climber import evaluate_time_complexity_hill_climber\n",
    "evaluate_time_complexity_hill_climber()"
   ],
   "metadata": {
    "id": "UV_MnwFXbIgI",
    "ExecuteTime": {
     "end_time": "2025-05-27T20:10:10.884261Z",
     "start_time": "2025-05-27T20:09:50.851640Z"
    }
   },
   "execution_count": 4,
   "outputs": [
    {
     "data": {
      "text/plain": "<Figure size 1500x1000 with 2 Axes>",
      "image/png": "[encoded data removed]"
     },
     "metadata": {},
     "output_type": "display_data"
    },
    {
     "name": "stdout",
     "output_type": "stream",
     "text": [
      "\n",
      "Time Complexity Table:\n"
     ]
    },
    {
     "data": {
      "text/plain": "   input_size_max_iter  input_size_local_search  time_max_iter (s)  \\\n0                  100                       50           0.002000   \n1                  200                      100           0.011998   \n2                  300                      150           0.003012   \n3                  400                      200           0.003000   \n4                  500                      250           0.004458   \n5                  600                      300           0.004364   \n6                  700                      350           0.005075   \n7                  800                      400           0.006000   \n8                  900                      450           0.006516   \n9                 1000                      500           0.007009   \n\n   time_local_search (s)  time_total (s)  \n0               0.053774        0.054774  \n1               0.221702        0.222699  \n2               0.453420        0.456408  \n3               0.806729        0.809819  \n4               1.259838        1.264296  \n5               1.814883        1.821065  \n6               2.473556        2.486418  \n7               3.235807        3.246999  \n8               4.110732        4.115248  \n9               5.114944        5.123228  ",
      "text/html": "<div>\n<style scoped>\n    .dataframe tbody tr th:only-of-type {\n        vertical-align: middle;\n    }\n\n    .dataframe tbody tr th {\n        vertical-align: top;\n    }\n\n    .dataframe thead th {\n        text-align: right;\n    }\n</style>\n<table border=\"1\" class=\"dataframe\">\n  <thead>\n    <tr style=\"text-align: right;\">\n      <th></th>\n      <th>input_size_max_iter</th>\n      <th>input_size_local_search</th>\n      <th>time_max_iter (s)</th>\n      <th>time_local_search (s)</th>\n      <th>time_total (s)</th>\n    </tr>\n  </thead>\n  <tbody>\n    <tr>\n      <th>0</th>\n      <td>100</td>\n      <td>50</td>\n      <td>0.002000</td>\n      <td>0.053774</td>\n      <td>0.054774</td>\n    </tr>\n    <tr>\n      <th>1</th>\n      <td>200</td>\n      <td>100</td>\n      <td>0.011998</td>\n      <td>0.221702</td>\n      <td>0.222699</td>\n    </tr>\n    <tr>\n      <th>2</th>\n      <td>300</td>\n      <td>150</td>\n      <td>0.003012</td>\n      <td>0.453420</td>\n      <td>0.456408</td>\n    </tr>\n    <tr>\n      <th>3</th>\n      <td>400</td>\n      <td>200</td>\n      <td>0.003000</td>\n      <td>0.806729</td>\n      <td>0.809819</td>\n    </tr>\n    <tr>\n      <th>4</th>\n      <td>500</td>\n      <td>250</td>\n      <td>0.004458</td>\n      <td>1.259838</td>\n      <td>1.264296</td>\n    </tr>\n    <tr>\n      <th>5</th>\n      <td>600</td>\n      <td>300</td>\n      <td>0.004364</td>\n      <td>1.814883</td>\n      <td>1.821065</td>\n    </tr>\n    <tr>\n      <th>6</th>\n      <td>700</td>\n      <td>350</td>\n      <td>0.005075</td>\n      <td>2.473556</td>\n      <td>2.486418</td>\n    </tr>\n    <tr>\n      <th>7</th>\n      <td>800</td>\n      <td>400</td>\n      <td>0.006000</td>\n      <td>3.235807</td>\n      <td>3.246999</td>\n    </tr>\n    <tr>\n      <th>8</th>\n      <td>900</td>\n      <td>450</td>\n      <td>0.006516</td>\n      <td>4.110732</td>\n      <td>4.115248</td>\n    </tr>\n    <tr>\n      <th>9</th>\n      <td>1000</td>\n      <td>500</td>\n      <td>0.007009</td>\n      <td>5.114944</td>\n      <td>5.123228</td>\n    </tr>\n  </tbody>\n</table>\n</div>"
     },
     "execution_count": 4,
     "metadata": {},
     "output_type": "execute_result"
    }
   ]
  },
  {
   "cell_type": "markdown",
   "source": [
    "<h2> Task 3. Implement Simulated Annealing </h2> with following options for \"cooling\" the temperature:\n",
    "\n",
    "*   Linear Cooling Schedule: Tk = T0 − α⋅k, where T0 is initial temperature, α is a constant and k is iteration number.\n",
    "*   Logarithmic Cooling Schedule: Tk = (T0)/(log(k+1)), where T0 is initial temperature and k is iteration number\n",
    "*   Exponential Cooling Schedule: Tk = T0 ⋅ B^k, where T0 is initial temperature, k is iteration number and 0 < β < 1 is cooling rate\n",
    "*   Adaptive Cooling Schedule: An adaptive temperature schedule adjusts the cooling rate based on the algorithm's performance, such as the acceptance rate of new solutions. The idea is to slow down the cooling process if the algorithm is still finding better solutions and to speed it up if the algorithm is stagnating\n",
    "*   Custom cooling schedule: A custom temperature schedule can be designed to fit specific problem characteristics or based on empirical observations. Get creative in this one. It does not have to work better, but have an explanation of your idea.\n"
   ],
   "metadata": {
    "id": "2W3pfeXEbI4u"
   }
  },
  {
   "cell_type": "code",
   "source": [
    "from algorithms.simulated_annealing.simulated_annealing import simulated_annealing\n",
    "\n",
    "bounds = np.array([[-5.12, 5.12]] * 2)\n",
    "best_sol, best_val, history, acceptance_rate, acceptance_rate_worse = simulated_annealing(\n",
    "        rastrigin_objective_function,\n",
    "        bounds,\n",
    "        n_iterations=1000,\n",
    "        step_size=0.2,\n",
    "        T0=10.0,\n",
    "        cooling_schedule=\"linear\",\n",
    "        cooling_kwargs={'alpha': 0.1},\n",
    "        verbose=True,\n",
    "    )\n",
    "\n",
    "print(\"Best solution:\", best_sol)\n",
    "print(\"Best value:\", best_val)\n",
    "print(\"Acceptance rate:\", acceptance_rate)\n",
    "print(\"Acceptance rate of worse values:\", acceptance_rate_worse)"
   ],
   "metadata": {
    "id": "23MRTt55fALl",
    "ExecuteTime": {
     "end_time": "2025-05-26T22:00:29.911373Z",
     "start_time": "2025-05-26T22:00:29.883546Z"
    }
   },
   "execution_count": 10,
   "outputs": [
    {
     "name": "stdout",
     "output_type": "stream",
     "text": [
      "Accepted worse solution at iteration 7: value=33.100371, delta=6.454833, T=10.0000\n",
      "Accepted worse solution at iteration 10: value=38.910385, delta=8.819733, T=10.0000\n",
      "Accepted worse solution at iteration 12: value=37.015206, delta=1.014389, T=10.0000\n",
      "Accepted worse solution at iteration 17: value=29.718236, delta=2.839819, T=10.0000\n",
      "Accepted worse solution at iteration 18: value=32.679985, delta=2.961749, T=10.0000\n",
      "Accepted worse solution at iteration 19: value=39.658585, delta=6.978600, T=10.0000\n",
      "Accepted worse solution at iteration 22: value=29.947731, delta=2.657223, T=10.0000\n",
      "Accepted worse solution at iteration 27: value=28.707030, delta=2.490879, T=10.0000\n",
      "Accepted worse solution at iteration 28: value=29.987415, delta=1.280385, T=10.0000\n",
      "Accepted worse solution at iteration 29: value=30.467696, delta=0.480281, T=10.0000\n",
      "Accepted worse solution at iteration 32: value=36.117147, delta=9.033826, T=10.0000\n",
      "Accepted worse solution at iteration 36: value=37.995331, delta=7.781173, T=10.0000\n",
      "Accepted worse solution at iteration 42: value=29.937583, delta=3.227505, T=10.0000\n",
      "Accepted worse solution at iteration 44: value=30.936647, delta=2.695916, T=10.0000\n",
      "Accepted worse solution at iteration 46: value=34.619161, delta=3.682515, T=10.0000\n",
      "Accepted worse solution at iteration 48: value=34.528311, delta=4.009054, T=10.0000\n",
      "Accepted worse solution at iteration 49: value=39.676747, delta=5.148436, T=10.0000\n",
      "Iter 49, T=10.5263, accepted in window=32, best_value=26.216152\n",
      "Accepted worse solution at iteration 51: value=38.620329, delta=6.436370, T=10.5263\n",
      "Accepted worse solution at iteration 54: value=42.144504, delta=3.524175, T=10.5263\n",
      "Accepted worse solution at iteration 63: value=21.943541, delta=2.977761, T=10.5263\n",
      "Accepted worse solution at iteration 64: value=36.262272, delta=14.318731, T=10.5263\n",
      "Accepted worse solution at iteration 68: value=35.199993, delta=0.765802, T=10.5263\n",
      "Accepted worse solution at iteration 71: value=20.629899, delta=0.426219, T=10.5263\n",
      "Accepted worse solution at iteration 72: value=29.536807, delta=8.906907, T=10.5263\n",
      "Accepted worse solution at iteration 73: value=32.724550, delta=3.187744, T=10.5263\n",
      "Accepted worse solution at iteration 75: value=33.851720, delta=2.829676, T=10.5263\n",
      "Accepted worse solution at iteration 77: value=42.322979, delta=8.471259, T=10.5263\n",
      "Accepted worse solution at iteration 81: value=29.795512, delta=0.488490, T=10.5263\n",
      "Accepted worse solution at iteration 83: value=20.837934, delta=0.985312, T=10.5263\n",
      "Accepted worse solution at iteration 84: value=31.163546, delta=10.325611, T=10.5263\n",
      "Accepted worse solution at iteration 88: value=30.083440, delta=4.198279, T=10.5263\n",
      "Accepted worse solution at iteration 90: value=22.128052, delta=0.442109, T=10.5263\n",
      "Accepted worse solution at iteration 91: value=33.312137, delta=11.184084, T=10.5263\n",
      "Accepted worse solution at iteration 92: value=34.529854, delta=1.217718, T=10.5263\n",
      "Accepted worse solution at iteration 93: value=42.640750, delta=8.110895, T=10.5263\n",
      "Accepted worse solution at iteration 97: value=26.349815, delta=6.251864, T=10.5263\n",
      "Accepted worse solution at iteration 99: value=34.922099, delta=12.736297, T=10.5263\n",
      "Iter 99, T=11.0803, accepted in window=39, best_value=18.965779\n",
      "Accepted worse solution at iteration 103: value=36.678676, delta=7.744398, T=11.0803\n",
      "Accepted worse solution at iteration 106: value=33.654846, delta=12.160897, T=11.0803\n",
      "Accepted worse solution at iteration 107: value=39.148928, delta=5.494082, T=11.0803\n",
      "Accepted worse solution at iteration 118: value=20.274979, delta=0.363206, T=11.0803\n",
      "Accepted worse solution at iteration 119: value=24.241942, delta=3.966963, T=11.0803\n",
      "Accepted worse solution at iteration 123: value=31.901592, delta=8.674568, T=11.0803\n",
      "Accepted worse solution at iteration 124: value=35.502767, delta=3.601175, T=11.0803\n",
      "Accepted worse solution at iteration 127: value=39.439310, delta=3.936542, T=11.0803\n",
      "Accepted worse solution at iteration 130: value=37.929085, delta=3.334829, T=11.0803\n",
      "Accepted worse solution at iteration 131: value=42.001374, delta=4.072289, T=11.0803\n",
      "Accepted worse solution at iteration 133: value=43.973347, delta=4.370718, T=11.0803\n",
      "Accepted worse solution at iteration 140: value=31.946550, delta=8.429922, T=11.0803\n",
      "Accepted worse solution at iteration 141: value=43.886090, delta=11.939539, T=11.0803\n",
      "Accepted worse solution at iteration 143: value=43.626958, delta=6.392131, T=11.0803\n",
      "Accepted worse solution at iteration 147: value=33.945789, delta=1.469269, T=11.0803\n",
      "Accepted worse solution at iteration 149: value=50.052599, delta=16.604251, T=11.0803\n",
      "Iter 149, T=11.6635, accepted in window=35, best_value=18.965779\n",
      "Accepted worse solution at iteration 152: value=49.742796, delta=14.609405, T=11.6635\n",
      "Accepted worse solution at iteration 155: value=43.605551, delta=1.827327, T=11.6635\n",
      "Accepted worse solution at iteration 158: value=33.289517, delta=1.424603, T=11.6635\n",
      "Accepted worse solution at iteration 160: value=33.723419, delta=6.820818, T=11.6635\n",
      "Accepted worse solution at iteration 161: value=34.923756, delta=1.200337, T=11.6635\n",
      "Accepted worse solution at iteration 167: value=37.916127, delta=9.759446, T=11.6635\n",
      "Accepted worse solution at iteration 169: value=41.102192, delta=3.186065, T=11.6635\n",
      "Accepted worse solution at iteration 175: value=32.719370, delta=0.740848, T=11.6635\n",
      "Accepted worse solution at iteration 177: value=37.733926, delta=5.014556, T=11.6635\n",
      "Accepted worse solution at iteration 178: value=39.328562, delta=1.594636, T=11.6635\n",
      "Accepted worse solution at iteration 180: value=32.212317, delta=5.094336, T=11.6635\n",
      "Accepted worse solution at iteration 182: value=45.521554, delta=13.309237, T=11.6635\n",
      "Accepted worse solution at iteration 183: value=45.745534, delta=0.223980, T=11.6635\n",
      "Accepted worse solution at iteration 186: value=47.728568, delta=7.607779, T=11.6635\n",
      "Accepted worse solution at iteration 189: value=30.099096, delta=0.108854, T=11.6635\n",
      "Accepted worse solution at iteration 192: value=30.588828, delta=0.552105, T=11.6635\n",
      "Accepted worse solution at iteration 194: value=38.066518, delta=8.043002, T=11.6635\n",
      "Accepted worse solution at iteration 195: value=50.165077, delta=12.098559, T=11.6635\n",
      "Accepted worse solution at iteration 199: value=44.939139, delta=9.223782, T=11.6635\n",
      "Iter 199, T=12.2774, accepted in window=38, best_value=18.965779\n",
      "Accepted worse solution at iteration 201: value=35.972889, delta=5.302598, T=12.2774\n",
      "Accepted worse solution at iteration 202: value=46.467418, delta=10.494529, T=12.2774\n",
      "Accepted worse solution at iteration 203: value=49.864149, delta=3.396731, T=12.2774\n",
      "Accepted worse solution at iteration 208: value=26.025637, delta=5.495517, T=12.2774\n",
      "Accepted worse solution at iteration 214: value=27.069940, delta=1.823407, T=12.2774\n",
      "Accepted worse solution at iteration 216: value=37.409677, delta=10.339737, T=12.2774\n",
      "Accepted worse solution at iteration 217: value=37.660700, delta=0.251023, T=12.2774\n",
      "Accepted worse solution at iteration 218: value=39.145953, delta=1.485254, T=12.2774\n",
      "Accepted worse solution at iteration 221: value=40.161575, delta=3.277487, T=12.2774\n",
      "Accepted worse solution at iteration 222: value=48.694464, delta=8.532889, T=12.2774\n",
      "Accepted worse solution at iteration 224: value=48.165232, delta=0.497953, T=12.2774\n",
      "Accepted worse solution at iteration 226: value=57.590447, delta=21.382083, T=12.2774\n",
      "Accepted worse solution at iteration 227: value=64.658788, delta=7.068341, T=12.2774\n",
      "Accepted worse solution at iteration 230: value=47.321997, delta=10.671048, T=12.2774\n",
      "Accepted worse solution at iteration 233: value=44.628336, delta=3.257274, T=12.2774\n",
      "Accepted worse solution at iteration 236: value=45.991891, delta=16.682681, T=12.2774\n",
      "Accepted worse solution at iteration 237: value=52.898498, delta=6.906608, T=12.2774\n",
      "Accepted worse solution at iteration 239: value=52.593261, delta=7.047742, T=12.2774\n",
      "Accepted worse solution at iteration 240: value=54.668769, delta=2.075508, T=12.2774\n",
      "Accepted worse solution at iteration 241: value=57.422330, delta=2.753561, T=12.2774\n",
      "Accepted worse solution at iteration 246: value=36.225096, delta=5.173397, T=12.2774\n",
      "Iter 249, T=12.9236, accepted in window=36, best_value=18.965779\n",
      "Accepted worse solution at iteration 251: value=38.438876, delta=2.772562, T=12.9236\n",
      "Accepted worse solution at iteration 254: value=34.226538, delta=4.050373, T=12.9236\n",
      "Accepted worse solution at iteration 255: value=36.223730, delta=1.997193, T=12.9236\n",
      "Accepted worse solution at iteration 256: value=37.951350, delta=1.727619, T=12.9236\n",
      "Accepted worse solution at iteration 257: value=40.799481, delta=2.848132, T=12.9236\n",
      "Accepted worse solution at iteration 258: value=56.202894, delta=15.403413, T=12.9236\n",
      "Accepted worse solution at iteration 262: value=28.943641, delta=1.523551, T=12.9236\n",
      "Accepted worse solution at iteration 263: value=29.301957, delta=0.358316, T=12.9236\n",
      "Accepted worse solution at iteration 264: value=36.904241, delta=7.602284, T=12.9236\n",
      "Accepted worse solution at iteration 268: value=43.633224, delta=7.490436, T=12.9236\n",
      "Accepted worse solution at iteration 271: value=40.926357, delta=3.201848, T=12.9236\n",
      "Accepted worse solution at iteration 272: value=43.842992, delta=2.916636, T=12.9236\n",
      "Accepted worse solution at iteration 279: value=36.878357, delta=1.100606, T=12.9236\n",
      "Accepted worse solution at iteration 283: value=30.285048, delta=6.203055, T=12.9236\n",
      "Accepted worse solution at iteration 290: value=32.115821, delta=8.792831, T=12.9236\n",
      "Accepted worse solution at iteration 294: value=43.183375, delta=11.067554, T=12.9236\n",
      "Accepted worse solution at iteration 297: value=23.913464, delta=0.296126, T=12.9236\n",
      "Accepted worse solution at iteration 298: value=28.293669, delta=4.380205, T=12.9236\n",
      "Iter 299, T=13.6037, accepted in window=34, best_value=18.965779\n",
      "Accepted worse solution at iteration 300: value=21.204439, delta=1.052951, T=13.6037\n",
      "Accepted worse solution at iteration 303: value=32.904092, delta=11.699653, T=13.6037\n",
      "Accepted worse solution at iteration 305: value=33.767446, delta=1.311901, T=13.6037\n",
      "Accepted worse solution at iteration 306: value=35.861504, delta=2.094058, T=13.6037\n",
      "Accepted worse solution at iteration 307: value=47.370359, delta=11.508855, T=13.6037\n",
      "Accepted worse solution at iteration 310: value=35.099481, delta=3.952721, T=13.6037\n",
      "Accepted worse solution at iteration 315: value=19.169560, delta=5.076941, T=13.6037\n",
      "Accepted worse solution at iteration 316: value=26.813092, delta=7.643532, T=13.6037\n",
      "Accepted worse solution at iteration 318: value=30.085541, delta=3.272449, T=13.6037\n",
      "Accepted worse solution at iteration 324: value=28.140873, delta=4.693729, T=13.6037\n",
      "Accepted worse solution at iteration 325: value=34.130477, delta=5.989604, T=13.6037\n",
      "Accepted worse solution at iteration 326: value=40.941756, delta=6.811279, T=13.6037\n",
      "Accepted worse solution at iteration 333: value=14.550693, delta=1.024235, T=13.6037\n",
      "Accepted worse solution at iteration 335: value=32.127385, delta=19.252132, T=13.6037\n",
      "Accepted worse solution at iteration 336: value=33.442114, delta=1.314728, T=13.6037\n",
      "Accepted worse solution at iteration 339: value=30.825636, delta=1.965703, T=13.6037\n",
      "Accepted worse solution at iteration 343: value=29.341066, delta=1.866541, T=13.6037\n",
      "Accepted worse solution at iteration 344: value=30.172070, delta=0.831004, T=13.6037\n",
      "Accepted worse solution at iteration 347: value=19.784776, delta=1.417369, T=13.6037\n",
      "Accepted worse solution at iteration 349: value=29.768533, delta=9.983756, T=13.6037\n",
      "Iter 349, T=14.3197, accepted in window=35, best_value=12.875253\n",
      "Accepted worse solution at iteration 352: value=17.018913, delta=2.755094, T=14.3197\n",
      "Accepted worse solution at iteration 355: value=21.747287, delta=4.728374, T=14.3197\n",
      "Accepted worse solution at iteration 357: value=16.757222, delta=6.654553, T=14.3197\n",
      "Accepted worse solution at iteration 359: value=19.511846, delta=4.054686, T=14.3197\n",
      "Accepted worse solution at iteration 360: value=26.193443, delta=6.681597, T=14.3197\n",
      "Accepted worse solution at iteration 361: value=37.502048, delta=11.308605, T=14.3197\n",
      "Accepted worse solution at iteration 362: value=43.283231, delta=5.781184, T=14.3197\n",
      "Accepted worse solution at iteration 364: value=21.890521, delta=2.931351, T=14.3197\n",
      "Accepted worse solution at iteration 366: value=38.284683, delta=16.394162, T=14.3197\n",
      "Accepted worse solution at iteration 367: value=42.843023, delta=4.558340, T=14.3197\n",
      "Accepted worse solution at iteration 370: value=35.436322, delta=6.501853, T=14.3197\n",
      "Accepted worse solution at iteration 373: value=35.291785, delta=2.710373, T=14.3197\n",
      "Accepted worse solution at iteration 374: value=38.004353, delta=2.712568, T=14.3197\n",
      "Accepted worse solution at iteration 378: value=29.298652, delta=10.911288, T=14.3197\n",
      "Accepted worse solution at iteration 379: value=30.541103, delta=1.242450, T=14.3197\n",
      "Accepted worse solution at iteration 380: value=37.648538, delta=7.107435, T=14.3197\n",
      "Accepted worse solution at iteration 385: value=22.789787, delta=1.709826, T=14.3197\n",
      "Accepted worse solution at iteration 389: value=25.865451, delta=3.075664, T=14.3197\n",
      "Accepted worse solution at iteration 392: value=45.398846, delta=27.012253, T=14.3197\n",
      "Accepted worse solution at iteration 395: value=34.643988, delta=6.684084, T=14.3197\n",
      "Accepted worse solution at iteration 398: value=25.635828, delta=1.944390, T=14.3197\n",
      "Iter 399, T=15.0734, accepted in window=37, best_value=10.102669\n",
      "Accepted worse solution at iteration 403: value=22.164508, delta=1.497561, T=15.0734\n",
      "Accepted worse solution at iteration 405: value=25.742800, delta=3.578292, T=15.0734\n",
      "Accepted worse solution at iteration 406: value=29.994452, delta=4.251652, T=15.0734\n",
      "Accepted worse solution at iteration 411: value=20.555462, delta=0.618421, T=15.0734\n",
      "Accepted worse solution at iteration 414: value=20.172423, delta=1.411033, T=15.0734\n",
      "Accepted worse solution at iteration 415: value=29.697188, delta=9.524765, T=15.0734\n",
      "Accepted worse solution at iteration 417: value=28.726523, delta=0.374981, T=15.0734\n",
      "Accepted worse solution at iteration 421: value=25.930660, delta=2.964607, T=15.0734\n",
      "Accepted worse solution at iteration 423: value=50.568131, delta=24.637472, T=15.0734\n",
      "Accepted worse solution at iteration 425: value=39.588390, delta=4.074003, T=15.0734\n",
      "Accepted worse solution at iteration 426: value=39.962911, delta=0.374521, T=15.0734\n",
      "Accepted worse solution at iteration 427: value=40.476511, delta=0.513601, T=15.0734\n",
      "Accepted worse solution at iteration 428: value=55.460235, delta=14.983724, T=15.0734\n",
      "Accepted worse solution at iteration 429: value=57.124508, delta=1.664273, T=15.0734\n",
      "Accepted worse solution at iteration 441: value=19.700434, delta=2.356394, T=15.0734\n",
      "Accepted worse solution at iteration 442: value=21.176288, delta=1.475855, T=15.0734\n",
      "Iter 449, T=15.8667, accepted in window=30, best_value=10.102669\n",
      "Accepted worse solution at iteration 450: value=27.467874, delta=10.270234, T=15.8667\n",
      "Accepted worse solution at iteration 454: value=22.995057, delta=5.452550, T=15.8667\n",
      "Accepted worse solution at iteration 455: value=33.786471, delta=10.791414, T=15.8667\n",
      "Accepted worse solution at iteration 459: value=20.774590, delta=1.578772, T=15.8667\n",
      "Accepted worse solution at iteration 462: value=28.967913, delta=9.764031, T=15.8667\n",
      "Accepted worse solution at iteration 464: value=38.771462, delta=10.112972, T=15.8667\n",
      "Accepted worse solution at iteration 467: value=35.577480, delta=3.591541, T=15.8667\n",
      "Accepted worse solution at iteration 468: value=35.754865, delta=0.177384, T=15.8667\n",
      "Accepted worse solution at iteration 469: value=41.000911, delta=5.246047, T=15.8667\n",
      "Accepted worse solution at iteration 473: value=29.430048, delta=6.423284, T=15.8667\n",
      "Accepted worse solution at iteration 474: value=29.755636, delta=0.325588, T=15.8667\n",
      "Accepted worse solution at iteration 475: value=35.891025, delta=6.135389, T=15.8667\n",
      "Accepted worse solution at iteration 477: value=30.048369, delta=5.006656, T=15.8667\n",
      "Accepted worse solution at iteration 478: value=33.782118, delta=3.733749, T=15.8667\n",
      "Accepted worse solution at iteration 479: value=48.487404, delta=14.705285, T=15.8667\n",
      "Accepted worse solution at iteration 485: value=27.695489, delta=10.338456, T=15.8667\n",
      "Accepted worse solution at iteration 486: value=30.704545, delta=3.009055, T=15.8667\n",
      "Accepted worse solution at iteration 490: value=26.575471, delta=4.174385, T=15.8667\n",
      "Accepted worse solution at iteration 492: value=27.145280, delta=0.569809, T=15.8667\n",
      "Accepted worse solution at iteration 493: value=35.490725, delta=8.345445, T=15.8667\n",
      "Accepted worse solution at iteration 495: value=54.086363, delta=18.595637, T=15.8667\n",
      "Iter 499, T=16.7018, accepted in window=37, best_value=10.102669\n",
      "Accepted worse solution at iteration 504: value=37.284402, delta=12.663874, T=16.7018\n",
      "Accepted worse solution at iteration 509: value=33.416575, delta=13.175253, T=16.7018\n",
      "Accepted worse solution at iteration 510: value=35.614733, delta=2.198158, T=16.7018\n",
      "Accepted worse solution at iteration 512: value=19.898106, delta=1.412999, T=16.7018\n",
      "Accepted worse solution at iteration 514: value=25.012318, delta=5.114212, T=16.7018\n",
      "Accepted worse solution at iteration 515: value=27.567763, delta=2.555445, T=16.7018\n",
      "Accepted worse solution at iteration 517: value=32.349444, delta=11.489754, T=16.7018\n",
      "Accepted worse solution at iteration 521: value=31.281484, delta=1.480514, T=16.7018\n",
      "Accepted worse solution at iteration 523: value=30.660065, delta=7.183907, T=16.7018\n",
      "Accepted worse solution at iteration 524: value=32.334353, delta=1.674288, T=16.7018\n",
      "Accepted worse solution at iteration 531: value=27.519734, delta=17.834647, T=16.7018\n",
      "Accepted worse solution at iteration 532: value=30.671315, delta=3.151580, T=16.7018\n",
      "Accepted worse solution at iteration 533: value=32.318614, delta=1.647299, T=16.7018\n",
      "Accepted worse solution at iteration 535: value=34.118382, delta=1.799768, T=16.7018\n",
      "Accepted worse solution at iteration 537: value=47.896345, delta=18.583741, T=16.7018\n",
      "Accepted worse solution at iteration 542: value=33.956643, delta=19.167057, T=16.7018\n",
      "Accepted worse solution at iteration 545: value=32.366819, delta=14.874657, T=16.7018\n",
      "Accepted worse solution at iteration 546: value=39.919627, delta=7.552808, T=16.7018\n",
      "Accepted worse solution at iteration 548: value=46.093359, delta=13.151060, T=16.7018\n",
      "Iter 549, T=17.5809, accepted in window=37, best_value=9.685088\n",
      "Accepted worse solution at iteration 553: value=33.242971, delta=10.084375, T=17.5809\n",
      "Accepted worse solution at iteration 554: value=41.106049, delta=7.863078, T=17.5809\n",
      "Accepted worse solution at iteration 558: value=37.009303, delta=6.846188, T=17.5809\n",
      "Accepted worse solution at iteration 562: value=29.430165, delta=11.333692, T=17.5809\n",
      "Accepted worse solution at iteration 566: value=31.698378, delta=20.812895, T=17.5809\n",
      "Accepted worse solution at iteration 568: value=25.828790, delta=2.444485, T=17.5809\n",
      "Accepted worse solution at iteration 571: value=11.574073, delta=1.249499, T=17.5809\n",
      "Accepted worse solution at iteration 572: value=12.110384, delta=0.536311, T=17.5809\n",
      "Accepted worse solution at iteration 575: value=25.614933, delta=14.682885, T=17.5809\n",
      "Accepted worse solution at iteration 577: value=27.885821, delta=2.270888, T=17.5809\n",
      "Accepted worse solution at iteration 580: value=11.509283, delta=4.104593, T=17.5809\n",
      "Accepted worse solution at iteration 581: value=14.826391, delta=3.317108, T=17.5809\n",
      "Accepted worse solution at iteration 582: value=25.695258, delta=10.868866, T=17.5809\n",
      "Accepted worse solution at iteration 584: value=25.221951, delta=1.382915, T=17.5809\n",
      "Accepted worse solution at iteration 585: value=34.725426, delta=9.503475, T=17.5809\n",
      "Accepted worse solution at iteration 586: value=41.508155, delta=6.782728, T=17.5809\n",
      "Accepted worse solution at iteration 589: value=27.457500, delta=14.112660, T=17.5809\n",
      "Accepted worse solution at iteration 592: value=36.353085, delta=10.777506, T=17.5809\n",
      "Accepted worse solution at iteration 593: value=38.333996, delta=1.980911, T=17.5809\n",
      "Accepted worse solution at iteration 597: value=19.155970, delta=2.476715, T=17.5809\n",
      "Accepted worse solution at iteration 598: value=24.864872, delta=5.708902, T=17.5809\n",
      "Iter 599, T=18.5062, accepted in window=45, best_value=7.404690\n",
      "Accepted worse solution at iteration 602: value=19.641101, delta=2.831713, T=18.5062\n",
      "Accepted worse solution at iteration 604: value=13.513249, delta=1.474207, T=18.5062\n",
      "Accepted worse solution at iteration 607: value=11.254093, delta=2.465235, T=18.5062\n",
      "Accepted worse solution at iteration 608: value=20.946518, delta=9.692425, T=18.5062\n",
      "Accepted worse solution at iteration 614: value=21.831273, delta=7.766818, T=18.5062\n",
      "Accepted worse solution at iteration 617: value=22.645760, delta=0.814487, T=18.5062\n",
      "Accepted worse solution at iteration 618: value=25.007958, delta=2.362198, T=18.5062\n",
      "Accepted worse solution at iteration 619: value=26.466145, delta=1.458187, T=18.5062\n",
      "Accepted worse solution at iteration 620: value=28.397500, delta=1.931355, T=18.5062\n",
      "Accepted worse solution at iteration 621: value=28.945850, delta=0.548350, T=18.5062\n",
      "Accepted worse solution at iteration 626: value=12.647067, delta=1.735899, T=18.5062\n",
      "Accepted worse solution at iteration 630: value=11.504698, delta=8.705114, T=18.5062\n",
      "Accepted worse solution at iteration 632: value=7.899150, delta=2.148675, T=18.5062\n",
      "Accepted worse solution at iteration 634: value=13.231801, delta=5.332651, T=18.5062\n",
      "Accepted worse solution at iteration 639: value=16.179628, delta=15.112109, T=18.5062\n",
      "Accepted worse solution at iteration 640: value=21.812834, delta=5.633207, T=18.5062\n",
      "Accepted worse solution at iteration 641: value=24.282110, delta=2.469276, T=18.5062\n",
      "Accepted worse solution at iteration 643: value=16.714194, delta=2.082972, T=18.5062\n",
      "Accepted worse solution at iteration 644: value=18.658315, delta=1.944121, T=18.5062\n",
      "Accepted worse solution at iteration 645: value=22.496654, delta=3.838339, T=18.5062\n",
      "Accepted worse solution at iteration 646: value=27.053612, delta=4.556958, T=18.5062\n",
      "Accepted worse solution at iteration 647: value=29.352481, delta=2.298869, T=18.5062\n",
      "Accepted worse solution at iteration 649: value=23.060921, delta=1.195016, T=18.5062\n",
      "Iter 649, T=19.4802, accepted in window=35, best_value=1.067519\n",
      "Accepted worse solution at iteration 654: value=9.757022, delta=7.068646, T=19.4802\n",
      "Accepted worse solution at iteration 655: value=10.557542, delta=0.800521, T=19.4802\n",
      "Accepted worse solution at iteration 657: value=12.780642, delta=2.223100, T=19.4802\n",
      "Accepted worse solution at iteration 662: value=8.728108, delta=3.999931, T=19.4802\n",
      "Accepted worse solution at iteration 665: value=19.500641, delta=14.267233, T=19.4802\n",
      "Accepted worse solution at iteration 666: value=37.208863, delta=17.708222, T=19.4802\n",
      "Accepted worse solution at iteration 668: value=17.197109, delta=13.295098, T=19.4802\n",
      "Accepted worse solution at iteration 670: value=18.510978, delta=4.072198, T=19.4802\n",
      "Accepted worse solution at iteration 673: value=29.679587, delta=12.594246, T=19.4802\n",
      "Accepted worse solution at iteration 674: value=38.030341, delta=8.350753, T=19.4802\n",
      "Accepted worse solution at iteration 679: value=8.852693, delta=7.324843, T=19.4802\n",
      "Accepted worse solution at iteration 680: value=38.622944, delta=29.770252, T=19.4802\n",
      "Accepted worse solution at iteration 684: value=25.815809, delta=4.251272, T=19.4802\n",
      "Accepted worse solution at iteration 686: value=36.962353, delta=11.146544, T=19.4802\n",
      "Accepted worse solution at iteration 690: value=22.384612, delta=6.242877, T=19.4802\n",
      "Accepted worse solution at iteration 692: value=23.669021, delta=7.198772, T=19.4802\n",
      "Accepted worse solution at iteration 698: value=17.860141, delta=8.619860, T=19.4802\n",
      "Accepted worse solution at iteration 699: value=19.619414, delta=1.759273, T=19.4802\n",
      "Iter 699, T=20.5055, accepted in window=39, best_value=1.067519\n",
      "Accepted worse solution at iteration 701: value=11.196950, delta=2.971742, T=20.5055\n",
      "Accepted worse solution at iteration 703: value=20.656265, delta=17.886642, T=20.5055\n",
      "Accepted worse solution at iteration 705: value=23.934611, delta=6.614710, T=20.5055\n",
      "Accepted worse solution at iteration 708: value=27.269845, delta=3.553139, T=20.5055\n",
      "Accepted worse solution at iteration 709: value=40.476589, delta=13.206744, T=20.5055\n",
      "Accepted worse solution at iteration 711: value=39.116682, delta=3.721625, T=20.5055\n",
      "Accepted worse solution at iteration 716: value=14.487168, delta=4.243145, T=20.5055\n",
      "Accepted worse solution at iteration 717: value=14.711608, delta=0.224441, T=20.5055\n",
      "Accepted worse solution at iteration 720: value=20.312439, delta=11.763734, T=20.5055\n",
      "Accepted worse solution at iteration 721: value=29.467951, delta=9.155511, T=20.5055\n",
      "Accepted worse solution at iteration 723: value=22.725587, delta=4.469475, T=20.5055\n",
      "Accepted worse solution at iteration 724: value=24.152845, delta=1.427257, T=20.5055\n",
      "Accepted worse solution at iteration 728: value=28.808963, delta=8.996433, T=20.5055\n",
      "Accepted worse solution at iteration 731: value=9.877378, delta=7.508599, T=20.5055\n",
      "Accepted worse solution at iteration 732: value=16.481549, delta=6.604172, T=20.5055\n",
      "Accepted worse solution at iteration 733: value=25.111749, delta=8.630200, T=20.5055\n",
      "Accepted worse solution at iteration 737: value=22.373137, delta=0.029605, T=20.5055\n",
      "Accepted worse solution at iteration 740: value=10.831952, delta=7.342261, T=20.5055\n",
      "Accepted worse solution at iteration 744: value=6.987534, delta=4.438438, T=20.5055\n",
      "Accepted worse solution at iteration 748: value=10.641276, delta=7.495554, T=20.5055\n",
      "Accepted worse solution at iteration 749: value=17.652396, delta=7.011119, T=20.5055\n",
      "Iter 749, T=21.5847, accepted in window=37, best_value=1.067519\n",
      "Accepted worse solution at iteration 750: value=19.292217, delta=1.639821, T=21.5847\n",
      "Accepted worse solution at iteration 751: value=36.402588, delta=17.110371, T=21.5847\n",
      "Accepted worse solution at iteration 754: value=30.800886, delta=13.492476, T=21.5847\n",
      "Accepted worse solution at iteration 759: value=20.564974, delta=2.282635, T=21.5847\n",
      "Accepted worse solution at iteration 760: value=24.911020, delta=4.346046, T=21.5847\n",
      "Accepted worse solution at iteration 763: value=19.674775, delta=5.147566, T=21.5847\n",
      "Accepted worse solution at iteration 764: value=31.125528, delta=11.450753, T=21.5847\n",
      "Accepted worse solution at iteration 767: value=24.796469, delta=3.386402, T=21.5847\n",
      "Accepted worse solution at iteration 771: value=18.733815, delta=5.577168, T=21.5847\n",
      "Accepted worse solution at iteration 772: value=23.833236, delta=5.099421, T=21.5847\n",
      "Accepted worse solution at iteration 774: value=20.880030, delta=1.451230, T=21.5847\n",
      "Accepted worse solution at iteration 775: value=22.780135, delta=1.900105, T=21.5847\n",
      "Accepted worse solution at iteration 779: value=7.987114, delta=3.145337, T=21.5847\n",
      "Accepted worse solution at iteration 780: value=16.481279, delta=8.494165, T=21.5847\n",
      "Accepted worse solution at iteration 782: value=19.878004, delta=3.396725, T=21.5847\n",
      "Accepted worse solution at iteration 783: value=32.837927, delta=12.959923, T=21.5847\n",
      "Accepted worse solution at iteration 785: value=3.914945, delta=2.246262, T=21.5847\n",
      "Accepted worse solution at iteration 786: value=12.303385, delta=8.388440, T=21.5847\n",
      "Accepted worse solution at iteration 796: value=4.764930, delta=2.223375, T=21.5847\n",
      "Accepted worse solution at iteration 798: value=7.025307, delta=2.260377, T=21.5847\n",
      "Iter 799, T=22.7207, accepted in window=38, best_value=1.067519\n",
      "Accepted worse solution at iteration 800: value=33.160716, delta=27.106112, T=22.7207\n",
      "Accepted worse solution at iteration 806: value=20.124668, delta=4.686718, T=22.7207\n",
      "Accepted worse solution at iteration 807: value=24.342075, delta=4.217407, T=22.7207\n",
      "Accepted worse solution at iteration 808: value=31.819849, delta=7.477774, T=22.7207\n",
      "Accepted worse solution at iteration 811: value=23.285456, delta=0.981163, T=22.7207\n",
      "Accepted worse solution at iteration 813: value=23.871050, delta=2.517680, T=22.7207\n",
      "Accepted worse solution at iteration 815: value=35.933564, delta=14.598470, T=22.7207\n",
      "Accepted worse solution at iteration 818: value=42.279652, delta=10.695503, T=22.7207\n",
      "Accepted worse solution at iteration 823: value=14.775094, delta=10.912185, T=22.7207\n",
      "Accepted worse solution at iteration 824: value=19.772806, delta=4.997713, T=22.7207\n",
      "Accepted worse solution at iteration 827: value=19.371954, delta=13.008237, T=22.7207\n",
      "Accepted worse solution at iteration 829: value=27.338041, delta=7.966087, T=22.7207\n",
      "Accepted worse solution at iteration 831: value=28.939301, delta=10.431565, T=22.7207\n",
      "Accepted worse solution at iteration 834: value=18.596446, delta=9.809975, T=22.7207\n",
      "Accepted worse solution at iteration 838: value=27.209091, delta=21.276174, T=22.7207\n",
      "Accepted worse solution at iteration 841: value=11.150233, delta=6.537411, T=22.7207\n",
      "Accepted worse solution at iteration 844: value=17.393145, delta=9.153394, T=22.7207\n",
      "Accepted worse solution at iteration 846: value=25.937886, delta=17.716146, T=22.7207\n",
      "Accepted worse solution at iteration 847: value=32.116918, delta=6.179031, T=22.7207\n",
      "Accepted worse solution at iteration 848: value=41.222502, delta=9.105584, T=22.7207\n",
      "Iter 849, T=23.9166, accepted in window=43, best_value=1.067519\n",
      "Accepted worse solution at iteration 853: value=45.294322, delta=24.338914, T=23.9166\n",
      "Accepted worse solution at iteration 855: value=38.731430, delta=0.480281, T=23.9166\n",
      "Accepted worse solution at iteration 856: value=39.771173, delta=1.039743, T=23.9166\n",
      "Accepted worse solution at iteration 857: value=45.545594, delta=5.774421, T=23.9166\n",
      "Accepted worse solution at iteration 859: value=45.917130, delta=0.548047, T=23.9166\n",
      "Accepted worse solution at iteration 867: value=17.801626, delta=4.099519, T=23.9166\n",
      "Accepted worse solution at iteration 870: value=16.864609, delta=2.701009, T=23.9166\n",
      "Accepted worse solution at iteration 871: value=21.161344, delta=4.296735, T=23.9166\n",
      "Accepted worse solution at iteration 876: value=24.559637, delta=12.081864, T=23.9166\n",
      "Accepted worse solution at iteration 878: value=23.315462, delta=13.576233, T=23.9166\n",
      "Accepted worse solution at iteration 882: value=25.516523, delta=9.948919, T=23.9166\n",
      "Accepted worse solution at iteration 883: value=40.579780, delta=15.063257, T=23.9166\n",
      "Accepted worse solution at iteration 885: value=45.818657, delta=5.238877, T=23.9166\n",
      "Accepted worse solution at iteration 888: value=31.919297, delta=11.477478, T=23.9166\n",
      "Accepted worse solution at iteration 890: value=41.205325, delta=13.417130, T=23.9166\n",
      "Accepted worse solution at iteration 893: value=23.661647, delta=1.438134, T=23.9166\n",
      "Accepted worse solution at iteration 896: value=18.390190, delta=0.861219, T=23.9166\n",
      "Iter 899, T=25.1753, accepted in window=43, best_value=1.067519\n",
      "Accepted worse solution at iteration 900: value=15.043157, delta=2.430008, T=25.1753\n",
      "Accepted worse solution at iteration 901: value=21.466476, delta=6.423319, T=25.1753\n",
      "Accepted worse solution at iteration 902: value=24.903571, delta=3.437094, T=25.1753\n",
      "Accepted worse solution at iteration 904: value=16.901580, delta=1.688340, T=25.1753\n",
      "Accepted worse solution at iteration 905: value=21.146749, delta=4.245169, T=25.1753\n",
      "Accepted worse solution at iteration 906: value=32.866288, delta=11.719539, T=25.1753\n",
      "Accepted worse solution at iteration 909: value=22.251887, delta=8.609739, T=25.1753\n",
      "Accepted worse solution at iteration 911: value=26.651445, delta=4.399558, T=25.1753\n",
      "Accepted worse solution at iteration 912: value=31.080032, delta=4.428586, T=25.1753\n",
      "Accepted worse solution at iteration 913: value=42.739458, delta=11.659426, T=25.1753\n",
      "Accepted worse solution at iteration 917: value=19.368828, delta=4.400217, T=25.1753\n",
      "Accepted worse solution at iteration 918: value=19.816721, delta=0.447893, T=25.1753\n",
      "Accepted worse solution at iteration 920: value=23.751685, delta=3.934963, T=25.1753\n",
      "Accepted worse solution at iteration 923: value=36.063708, delta=12.312023, T=25.1753\n",
      "Accepted worse solution at iteration 924: value=52.876638, delta=16.812930, T=25.1753\n",
      "Accepted worse solution at iteration 926: value=54.622072, delta=5.662093, T=25.1753\n",
      "Accepted worse solution at iteration 930: value=29.421235, delta=3.947029, T=25.1753\n",
      "Accepted worse solution at iteration 931: value=41.512215, delta=12.090980, T=25.1753\n",
      "Accepted worse solution at iteration 932: value=53.031338, delta=11.519123, T=25.1753\n",
      "Accepted worse solution at iteration 936: value=39.739130, delta=19.183237, T=25.1753\n",
      "Accepted worse solution at iteration 937: value=41.227101, delta=1.487970, T=25.1753\n",
      "Accepted worse solution at iteration 938: value=41.767308, delta=0.540207, T=25.1753\n",
      "Accepted worse solution at iteration 939: value=55.497934, delta=13.730626, T=25.1753\n",
      "Accepted worse solution at iteration 944: value=46.159645, delta=10.114313, T=25.1753\n",
      "Accepted worse solution at iteration 946: value=41.954939, delta=7.939035, T=25.1753\n",
      "Iter 949, T=26.5003, accepted in window=42, best_value=1.067519\n",
      "Accepted worse solution at iteration 951: value=42.659773, delta=16.177158, T=26.5003\n",
      "Accepted worse solution at iteration 952: value=59.093602, delta=16.433829, T=26.5003\n",
      "Accepted worse solution at iteration 958: value=24.296265, delta=0.549667, T=26.5003\n",
      "Accepted worse solution at iteration 959: value=30.624212, delta=6.327947, T=26.5003\n",
      "Accepted worse solution at iteration 961: value=41.482891, delta=12.643899, T=26.5003\n",
      "Accepted worse solution at iteration 964: value=26.774588, delta=4.173021, T=26.5003\n",
      "Accepted worse solution at iteration 965: value=39.894713, delta=13.120126, T=26.5003\n",
      "Accepted worse solution at iteration 966: value=48.009304, delta=8.114591, T=26.5003\n",
      "Accepted worse solution at iteration 969: value=36.383054, delta=7.369970, T=26.5003\n",
      "Accepted worse solution at iteration 970: value=45.916336, delta=9.533282, T=26.5003\n",
      "Accepted worse solution at iteration 972: value=47.014468, delta=2.518559, T=26.5003\n",
      "Accepted worse solution at iteration 976: value=49.227526, delta=9.352445, T=26.5003\n",
      "Accepted worse solution at iteration 980: value=50.853060, delta=15.893005, T=26.5003\n",
      "Accepted worse solution at iteration 983: value=38.532987, delta=1.626467, T=26.5003\n",
      "Accepted worse solution at iteration 984: value=42.082610, delta=3.549623, T=26.5003\n",
      "Accepted worse solution at iteration 987: value=47.691033, delta=16.565635, T=26.5003\n",
      "Accepted worse solution at iteration 988: value=54.783153, delta=7.092120, T=26.5003\n",
      "Accepted worse solution at iteration 991: value=43.938557, delta=1.875276, T=26.5003\n",
      "Accepted worse solution at iteration 994: value=46.098393, delta=2.159836, T=26.5003\n",
      "Accepted worse solution at iteration 995: value=60.667807, delta=14.569413, T=26.5003\n",
      "Accepted worse solution at iteration 998: value=45.697344, delta=0.715285, T=26.5003\n",
      "Best solution: [-0.0172849   0.98675204]\n",
      "Best value: 1.0675187953785183\n",
      "Acceptance rate: 0.755\n",
      "Acceptance rate of worse values: 0.394\n"
     ]
    }
   ]
  },
  {
   "cell_type": "markdown",
   "source": [
    "<h2> Task 4. Evaluate implemented temperature schedulers </h2>  in terms of:\n",
    "\n",
    "*   Exploration vs. Exploitation: if the cooling schedule is too aggressive, the algorithm may converge prematurely, settling in local minima instead of finding the global minimum\n",
    "*   Convergence Speed: well-tuned cooling schedule can significantly reduce the number of iterations required to converge to a good solution.\n",
    "*   Quality of Solutions: A gradual cooling schedule tends to yield better quality solutions since it allows the algorithm to explore the solution space longer before committing to a particular region.\n",
    "\n",
    "Define Metrics for Evaluation:\n",
    "*   Exploration vs. Exploitation: Measure the acceptance rate of worse solutions over iterations\n",
    "*   Convergence Speed: Track the number of iterations taken to reach a solution within a predefined tolerance\n",
    "*   Quality of Solutions: Compare the final solution obtained by different temperature schedulers to the known optimal or global minimum value\n",
    "*   Report hyperparameters which will make SA never converge. Why?\n",
    "\n",
    "<p> Use Rastrigin function  as objective function for evaluation. Google how it looks, it is a function with a lot of local minima and only one global minima. You will have to run each setup multiple times. Create a table with results, visualize it using boxplots (for example). Compare mean values of metrics and based on that draw conclusions. </p>\n",
    "<img src=\"https://upload.wikimedia.org/wikipedia/commons/8/8b/Rastrigin_function.png\" alt=\"Example Image\" width=\"300\" height=\"200\">\n"
   ],
   "metadata": {
    "id": "SSk34lDIfAnc"
   }
  },
  {
   "cell_type": "code",
   "source": [
    "import numpy as np \n",
    "from algorithms.simulated_annealing.plot_sa_metrics import plot_sa_results\n",
    "from algorithms.simulated_annealing.evaluate_sa import evaluate_sa\n",
    "\n",
    "schedules = [\n",
    "    {\"name\": \"linear\", \"kwargs\": {\"alpha\": 0.01}},\n",
    "    {\"name\": \"exponential\", \"kwargs\": {\"beta\": 0.95}},\n",
    "    {\"name\": \"logarithmic\", \"kwargs\": None},\n",
    "    {\"name\": \"adaptive\", \"kwargs\": {'learning_rate': 0.15, 'cooling_rate': 0.95}},\n",
    "    {\"name\": \"custom\", \"kwargs\": None}\n",
    "]\n",
    "\n",
    "results = {}\n",
    "bounds = np.array([[-5.12, 5.12]] * 2)\n",
    "for element in schedules:\n",
    "    print(f\"Evaluating schedule: {element['name']}\")\n",
    "    results[element['name']] = evaluate_sa(\n",
    "        rastrigin_objective_function,\n",
    "        bounds,\n",
    "        global_minimum=0.0,\n",
    "        n_iterations=1000,\n",
    "        step_size=0.2,\n",
    "        T0=10,\n",
    "        cooling_schedule=element['name'],\n",
    "        cooling_kwargs=element['kwargs'],\n",
    "        tolerance=1e-3,\n",
    "        n_trials=30,\n",
    "    )\n",
    "\n",
    "\n",
    "plot_sa_results(results)"
   ],
   "metadata": {
    "id": "7s5mwdyvg0Fa",
    "ExecuteTime": {
     "end_time": "2025-05-27T13:45:28.365086Z",
     "start_time": "2025-05-27T13:45:25.840744Z"
    }
   },
   "execution_count": 3,
   "outputs": [
    {
     "name": "stdout",
     "output_type": "stream",
     "text": [
      "Evaluating schedule: linear\n",
      "Evaluating schedule: exponential\n",
      "Evaluating schedule: logarithmic\n",
      "Evaluating schedule: adaptive\n",
      "Evaluating schedule: custom\n"
     ]
    },
    {
     "data": {
      "text/plain": "<Figure size 2000x600 with 3 Axes>",
      "image/png": "[encoded data removed]"
     },
     "metadata": {},
     "output_type": "display_data"
    },
    {
     "name": "stdout",
     "output_type": "stream",
     "text": [
      "                 best_value            convergence_iter       \\\n",
      "                       mean        std             mean  std   \n",
      "cooling_schedule                                               \n",
      "adaptive           2.968186   3.049579           1000.0  0.0   \n",
      "custom            13.401561  10.701985           1000.0  0.0   \n",
      "exponential       16.481228   9.776598           1000.0  0.0   \n",
      "linear             5.494325   5.329248           1000.0  0.0   \n",
      "logarithmic       17.049047  14.139771           1000.0  0.0   \n",
      "\n",
      "                 acceptance_rate_worse            \n",
      "                                  mean       std  \n",
      "cooling_schedule                                  \n",
      "adaptive                      0.268000  0.014201  \n",
      "custom                        0.011400  0.002955  \n",
      "exponential                   0.009033  0.002442  \n",
      "linear                        0.188833  0.012777  \n",
      "logarithmic                   0.098833  0.013931  \n"
     ]
    }
   ]
  },
  {
   "cell_type": "markdown",
   "source": [
    "### Elaboration - Task 4\n",
    "\n",
    "#### 1st plot\n",
    "\n",
    "Linear and Adaptive Cooling:\n",
    "- Have the lowest medians and tightest boxes, meaning they consistently find solutions close to the global minimum.\n",
    "- In this case Adaptive performs best but have some unexpected bad results, outliers \n",
    "\n",
    "Exponential, Logarithmic, and Custom Cooling:\n",
    "- Have higher medians and much wider boxes, meaning they are less reliable and often end up with higher (worse) final values.\n",
    "- Their performance is more variable—sometimes they do well, but often not.\n",
    "- Exponential and custom, especially, have high upper whiskers and medians, indicating many runs did not converge close to the global minimum.\n",
    "\n",
    "#### 2nd plot\n",
    "\n",
    "None of the runs for any cooling schedule converged to within specified tolerance before the algorithm reached the n_iterations.\n",
    "\n",
    "#### 3rd plot\n",
    "High acceptance rates -  indicate schedules that has more exploration, helping the algorithm escape local minima.\n",
    "Low acceptance rates - mean the algorithm is more exploitative, focusing on improving moves and potentially getting stuck in local minima.\n",
    "\n",
    "In this case most of the cooling schedules are in the medium bound of acceptance rates - this is expected since we started with lower temperature. Only adaptive went neer 0.5\n",
    "since we have adaptive temperature increase. If T0 is higher we would have different results.\n",
    "\n",
    "#### How to make SA never converge?\n",
    "\n",
    "- Extreme initial temperature, either too low or too high. If we have to low initial temperature we wil not explore, and we will get stuck in local minima, if initial temperature in high we will almost always accept new solutions and never be able to cool down in reasonable number of iterations.  \n",
    "\n",
    "- Linear cooling will never converge if we have high temperature and low alpha which will result in too slow cooling, or if we have normal initial temperature but large alpha which will result in too fast cooling making algorithm greedy in early stages, which will result with getting stuck in local minima.\n",
    "\n",
    "- Exponential cooling will never converge if we have high temperature and beta is close to one, for example beta=0.999 which will result in too slow cooling. Or if beta is to small that will result in too fast cooling and algorithm will get stuck in local minima. In other words we will converge too fast.\n",
    "\n",
    "- Step size can also cause bad convergence, if we have too small step size it can lead to slow search process and stuck in local minima if temperature is low, and we don't accept some new worse solution. If step size is to large it will cause large jump to often poor regions. "
   ],
   "metadata": {
    "collapsed": false
   }
  },
  {
   "cell_type": "markdown",
   "source": [
    "<h2> Task 5. Implement Particle Swarm Optimization algorithm </h2>\n",
    "Select a multidimensional function to optimize (e.g., Rosenbrock function, Rastrigin function, or Griewank function).\n",
    "\n",
    "\n",
    "1.  Define a class for the particle that includes properties such as position, velocity, personal best position, and personal best value.\n",
    "2.  Initialize a swarm of particles with random positions and velocities within defined boundaries.\n",
    "3.  Implement PSO formula for position update\n",
    "4.  Create a running loop, which perform the optimization\n"
   ],
   "metadata": {
    "id": "LXD0P4iuisrc"
   }
  },
  {
   "cell_type": "code",
   "source": [
    "from algorithms.particle_swarm.particle_swarm import ParticleSwarmOptimizer\n",
    "\n",
    "bounds = np.array([[-5.12, 5.12]] * 5)\n",
    "pso = ParticleSwarmOptimizer(\n",
    "    objective_func=rastrigin_objective_function,\n",
    "    bounds=bounds,\n",
    "    num_particles=30,\n",
    "    max_iter=1000,\n",
    "    w=0.9,\n",
    "    c1=2,\n",
    "    c2=2,\n",
    "    linear_weight_decay=True,\n",
    "    linear_weight_decay_alpha=0.0008\n",
    ")\n",
    "best_pos, best_val, history = pso.optimize(verbose=False)\n",
    "print(\"Best Position:\", best_pos)\n",
    "print(\"Best Value:\", best_val)"
   ],
   "metadata": {
    "id": "PhdTYcS3juvB",
    "ExecuteTime": {
     "end_time": "2025-05-27T20:52:37.548979Z",
     "start_time": "2025-05-27T20:52:36.511243Z"
    }
   },
   "execution_count": 9,
   "outputs": [
    {
     "name": "stdout",
     "output_type": "stream",
     "text": [
      "Best Position: [-1.10690937e-09 -6.64895151e-10  6.79865681e-10 -3.89121612e-09\n",
      " -1.72732998e-09]\n",
      "Best Value: 0.0\n"
     ]
    }
   ]
  },
  {
   "cell_type": "markdown",
   "source": [
    "<h2> Task 6. Experiment with C1 and C2 hyperparameters </h2>\n",
    "The goal of this project is to investigate the effects of the cognitive coefficient (c1) social coefficient (c2) and inertia weight (w) on the convergence behavior of the Particle Swarm Optimization algorithm.\n",
    "\n",
    "\n",
    "1.   Ensure that you have a working implementation of PSO (Task 5)\n",
    "2.   Conduct Experiments:\n",
    "\n",
    "* For each combination of c1,c2 and w, run the PSO algorithm multiple times (e.g., 30 runs) to account for randomness and obtain average results\n",
    "* Vary the hyperparameters c1, c2, w: Track and record the following metrics for each configuration (Best solution found, Number of iterations to convergence, Average time taken per run)\n",
    "* Create plots to visualize convergence speeds and best solutions over iterations for different parameter settings\n",
    "\n",
    "<p> 3.) Report hyperparameters which will make PSO never converge. Why?</p>"
   ],
   "metadata": {
    "id": "tZ3FZrcejvGg"
   }
  },
  {
   "cell_type": "code",
   "source": [],
   "metadata": {
    "id": "bEa3C9Collhu"
   },
   "execution_count": null,
   "outputs": []
  },
  {
   "cell_type": "markdown",
   "source": [
    "<h2> Task 7. Experiment with C1=0 and C2=1 </h2>\n",
    "<p> Fix other hyperparemeters to meaningful values and use c1=0 and c2=1 </p>\n",
    "<p> How does PSO behave? Is this reminding you of other algorithm? Why? </p>\n"
   ],
   "metadata": {
    "id": "TutYp0R0llrV"
   }
  },
  {
   "cell_type": "code",
   "source": [],
   "metadata": {
    "id": "T23aPSkynH1S"
   },
   "execution_count": null,
   "outputs": []
  },
  {
   "cell_type": "markdown",
   "source": [
    "Explain your results:"
   ],
   "metadata": {
    "id": "wEyE3e6YnIWY"
   }
  },
  {
   "cell_type": "markdown",
   "source": [
    "<h2> Task 8. Implement Ant Colony Optimization </h2>\n",
    "Use the Traveling Salesman Problem (TSP) as the objective function for this task. The TSP is a classic optimization problem where the goal is to find the shortest possible route that visits each city exactly once and returns to the origin city.\n",
    "<p>Objective Function: For a given set of cities and their pairwise distances, the objective function can be defined as sum of all distances or f(x)=Total Distance of the Route</p>\n",
    "\n",
    "1.   Define the number of ants, the pheromone matrix, and the heuristic information (usually the inverse of the distance)\n",
    "2.   Implement a pheromone update rule that allows pheromones to evaporate over time and be deposited by ants based on the quality of the solution found\n",
    "3.   Define how ants choose their next city based on pheromone levels and heuristic information (using a probability-based approach)\n",
    "4.   Finish the implementation and create loop which optimizes the objective function\n"
   ],
   "metadata": {
    "id": "HRP5vOCsnLVZ"
   }
  },
  {
   "cell_type": "code",
   "source": [
    "'''\n",
    "  Small example\n",
    "'''\n",
    "distance_matrix = np.array([\n",
    "    [0, 3.16, 4.00, 6.08, 3.00],  # Distances from city A\n",
    "    [3.16, 0, 3.00, 5.10, 3.16],   # Distances from city B\n",
    "    [4.00, 3.00, 0, 3.16, 1.00],    # Distances from city C\n",
    "    [6.08, 5.10, 3.16, 0, 3.16],    # Distances from city D\n",
    "    [3.00, 3.16, 1.00, 3.16, 0]     # Distances from city E\n",
    "])\n",
    "\n",
    "# List of cities\n",
    "cities = ['A', 'B', 'C', 'D', 'E']\n",
    "\n",
    "'''\n",
    "  Bigger example\n",
    "'''\n",
    "distance_matrix_big = np.array([\n",
    "    [0.00, 3.61, 5.00, 7.07, 4.12, 6.08, 5.66, 6.08, 8.06, 2.24],  # Distances from city A\n",
    "    [3.61, 0.00, 3.16, 5.10, 1.00, 4.12, 3.16, 3.16, 6.32, 1.00],  # Distances from city B\n",
    "    [5.00, 3.16, 0.00, 3.16, 4.12, 1.00, 3.16, 3.16, 3.16, 3.16],  # Distances from city C\n",
    "    [7.07, 5.10, 3.16, 0.00, 5.00, 2.83, 3.16, 4.12, 3.16, 5.00],  # Distances from city D\n",
    "    [4.12, 1.00, 4.12, 5.00, 0.00, 4.12, 3.16, 2.24, 6.32, 3.16],  # Distances from city E\n",
    "    [6.08, 4.12, 1.00, 2.83, 4.12, 0.00, 3.16, 3.16, 4.12, 4.12],  # Distances from city F\n",
    "    [5.66, 3.16, 3.16, 3.16, 3.16, 3.16, 0.00, 3.16, 4.12, 3.16],  # Distances from city G\n",
    "    [6.08, 3.16, 3.16, 4.12, 2.24, 3.16, 3.16, 0.00, 5.00, 2.83],  # Distances from city H\n",
    "    [8.06, 6.32, 3.16, 3.16, 6.32, 4.12, 4.12, 5.00, 0.00, 6.08],  # Distances from city I\n",
    "    [2.24, 1.00, 3.16, 5.00, 3.16, 4.12, 3.16, 2.83, 6.08, 0.00]   # Distances from city J\n",
    "])\n",
    "\n",
    "# List of cities\n",
    "cities_big = ['A', 'B', 'C', 'D', 'E', 'F', 'G', 'H', 'I', 'J']\n",
    "\n",
    "\n",
    "# You will probably need this:\n",
    "def euclidean_distance(point1, point2):\n",
    "    return np.sqrt(np.sum((point1 - point2) ** 2))"
   ],
   "metadata": {
    "id": "cEQWb2tuoQ93"
   },
   "execution_count": null,
   "outputs": []
  },
  {
   "cell_type": "code",
   "source": [],
   "metadata": {
    "id": "-Ae7_ro6okpc"
   },
   "execution_count": null,
   "outputs": []
  },
  {
   "cell_type": "markdown",
   "source": [
    "<h2> Task 9. Experiment with Ant Colony Optimization </h2>\n",
    "Experiment with:\n",
    "\n",
    "\n",
    "*   Pheromone Importance (α): Controls the influence of pheromone on the decision-making process.\n",
    "*   Heuristic Importance (β): Controls the influence of the heuristic information (e.g., distance).\n",
    "*   Pheromone Evaporation Rate (𝜌): Determines how quickly pheromone evaporates over time.\n",
    "*   Number of Ants: The size of the ant population.\n",
    "\n",
    "<p> 1.)Run the ACO algorithm with different combinations of α,β, 𝜌, and the number of ants. For each combination, record the best tour found and the total distance. Conduct multiple trials (e.g., 30 runs) for each parameter combination to obtain reliable average results. </p>\n",
    "<p> 2.) Create plots to illustrate how changing the hyperparameters affects performance. Write a report summarizing the findings in you see in plots. </p>\n",
    "<p> 3.) What is the time complexity of Ant colony Optimization? Why? You do not have to create plots (but if you want, use previously defined approach) </p>\n",
    "<p> 4.) Report hyperparameters which will make Ant colony never converge. Why?</p>"
   ],
   "metadata": {
    "id": "rxcricaCo4l-"
   }
  },
  {
   "cell_type": "code",
   "source": [],
   "metadata": {
    "id": "CTBXQOPRp_Ja"
   },
   "execution_count": null,
   "outputs": []
  },
  {
   "cell_type": "markdown",
   "source": [
    "Your Answer"
   ],
   "metadata": {
    "id": "NNoQcM2GqByJ"
   }
  },
  {
   "cell_type": "markdown",
   "source": [
    "<h2> Task 10. Implement Genetic Algorithm (GA) Optimization </h2>\n",
    "The goal of this task is to implement a Genetic Algorithm to solve an optimization problem. GA can optimize continuous (numeric) and discrete (categorical) problems. For example\n",
    "\n",
    "*   Rastrigin, an example of continous objective function you have implemented above. But use at least 10 dimnesions. Check code bellow.\n",
    "*   Knapsack Problem, the Knapsack Problem is a classic optimization problem where the goal is to maximize the total value of items that can be placed into a knapsack without exceeding its weight capacity\n",
    "\n",
    "<p>Let's start with implementation</p>\n",
    "\n",
    "1.   Implement a selection mechanisms: tournament selection, roulette wheel selection. Their purpose is to choose individuals based on their fitness values\n",
    "2.   Implement crossover techniques to combine the genetic information of two parent individuals to create offspring. Implement, single-point crossover, 2-point crossover and uniform crossover.\n",
    "3.   Implement mutation: Introduce random mutations in offspring to maintain genetic diversity. Implement gaussian mutation for numeric problems and implement Flip-bit mutation for discrete problems.\n",
    "4.   Create a main loop which performs the optimization\n",
    "5.   Create an inner loop which creates new population based on current population\n",
    "6.   Create encoding for Knapsack problem. For example, knapsack containing only first item (out of 4) will be encoded as [1,0,0,0]. Knapsack containing second and fourth item will be encoded as [0,1,0,1], etc...\n",
    "7. Finish the fitness function for Knapsack problem\n",
    "8. Run on both problems and get results\n"
   ],
   "metadata": {
    "id": "8TUb7eQ7q3xq"
   }
  },
  {
   "cell_type": "code",
   "source": [
    "# Use at least 10 dimnesions in rastrigin function\n",
    "def rastrigin_high_dimen(x):\n",
    "    A = 10\n",
    "    n = len(x) # determine the dimensions\n",
    "    if n < 10:\n",
    "      print(\"Use at least 10 dimnesions in rastrigin function\")\n",
    "      return -1\n",
    "    else:\n",
    "      return A * n + sum(x_i**2 - A * np.cos(2 * np.pi * x_i) for x_i in x)\n",
    "\n",
    "# For example\n",
    "x = np.array([1.2, 2.3, 20, 3,3.2, 5.4, 42.1, 2, 1, 2, 4,5])\n",
    "value = rastrigin_high_dimen(x)\n",
    "print(f'Rastrigin function value at {x}: {value}')"
   ],
   "metadata": {
    "id": "F_V28R_GtFlS"
   },
   "execution_count": null,
   "outputs": []
  },
  {
   "cell_type": "code",
   "source": [
    "# If you want you can add more items\n",
    "knapsack_items = {\n",
    "    'item1': {'value': 60, 'weight': 10},\n",
    "    'item2': {'value': 100, 'weight': 20},\n",
    "    'item3': {'value': 120, 'weight': 30},\n",
    "    'item4': {'value': 80, 'weight': 15},\n",
    "    'item5': {'value': 40, 'weight': 5},\n",
    "    'item6': {'value': 70, 'weight': 25},\n",
    "    'item7': {'value': 90, 'weight': 35},\n",
    "    'item8': {'value': 150, 'weight': 40},\n",
    "    'item9': {'value': 200, 'weight': 50},\n",
    "    'item10': {'value': 30, 'weight': 10}\n",
    "}\n",
    "\n",
    "# Maximum weight capacity of the knapsack\n",
    "capacity = 100\n",
    "\n",
    "def fitness(individual):\n",
    "    \"\"\"Calculate the fitness of an individual.\"\"\"\n",
    "    total_value = # Sum of all values contained in the knapsack (individual)\n",
    "    total_weight = # Sum of all weights contained in the knapsack (individual)\n",
    "\n",
    "    if total_weight > capacity:\n",
    "        return 0  # Penalize individuals that exceed the capacity\n",
    "    return total_value"
   ],
   "metadata": {
    "id": "gtX9pXxPv2ki"
   },
   "execution_count": null,
   "outputs": []
  },
  {
   "cell_type": "markdown",
   "source": [
    "<h2> Task 11. Experiment with Genetic Algorithm (GA) Optimization Hyperparameters </h2>\n",
    "Identify key hyperparameters to experiment with, such as:\n",
    "\n",
    "*   Population Size: The number of individuals in the population\n",
    "*   Crossover type: Single point vs 2-point vs uniform\n",
    "*   Mutation Rate: The probability of mutating a chromosome.\n",
    "*   Selection Method: The method used for selecting parents from the populatio\n",
    "<p> 1.) Run the Genetic Algorithm with different combinations of population size, crossover type, mutation rate, and selection methods.\n",
    "For each combination, record metrics such as the best fitness value found and the number of generations required to converge to a solution.\n",
    "</p>\n",
    "<p> 2.) Report hyperparameters which will make GA never converge. Why?</p>"
   ],
   "metadata": {
    "id": "nQKVvw7ftF1Z"
   }
  },
  {
   "cell_type": "code",
   "source": [],
   "metadata": {
    "id": "jaR9fmOFvEsS"
   },
   "execution_count": null,
   "outputs": []
  },
  {
   "cell_type": "markdown",
   "source": [
    "<h2> Task 12. Use pyGAD library </h2>\n",
    "The pyGAD library is a powerful tool for implementing Genetic Algorithms in Python. Check their documentation: https://pygad.readthedocs.io/en/latest/\n",
    "\n",
    "1.   pip install pygad\n",
    "2.   Solve Knapsack problem defined above\n",
    "3.   Solve rastrigin_high_dimen problem defined above\n",
    "4.   Explore pyGAD hyperparameters\n"
   ],
   "metadata": {
    "id": "DWs5dObhwriw"
   }
  },
  {
   "cell_type": "code",
   "source": [
    "!pip install pygad"
   ],
   "metadata": {
    "id": "KJrOOGmdxuTd"
   },
   "execution_count": null,
   "outputs": []
  },
  {
   "cell_type": "code",
   "source": [
    "import pygad"
   ],
   "metadata": {
    "id": "q-kClVlZxnFu"
   },
   "execution_count": null,
   "outputs": []
  },
  {
   "cell_type": "markdown",
   "source": [
    "<h2> Task 13. The Needleman-Wunch Algorithm </h2>\n",
    "The goal of this task is to implement basic Needleman-Wunsch algorithm for sequence alignment and to experiment with various scoring parameters to understand their impact on alignment quality.\n",
    "\n",
    "1.   Initialization: Create a scoring matrix initialized with zeros. The dimensions of the matrix should be based on the lengths of the two sequences being aligned.\n",
    "2.   Scoring System: Define a scoring system that includes: Match Score: The score for matching characters, Mismatch Penalty: The penalty for aligning different characters, Gap Penalty: The penalty for introducing gaps in the alignment.\n",
    "3.   Implement filling the Matrix: Fill in the scoring matrix according to the Needleman-Wunsch algorithm rules.\n",
    "4.   Implement Traceback: After filling the matrix, perform a traceback to construct the aligned sequences.\n",
    "<p>\n",
    "Here are two sequences which you can use for example run:\n",
    "*   S1 = \"ACTGACTGAACCCAA\"\n",
    "*   S2 = \"ACTGATCAA\"\n",
    "</p>\n",
    "In order to check your implementation correctness use the following page: https://bioboot.github.io/bimm143_W20/class-material/nw/\n"
   ],
   "metadata": {
    "id": "E4wKgWqDxxX_"
   }
  },
  {
   "cell_type": "code",
   "source": [
    "# Feel free to organize the code however you want...\n",
    "def fill_in_the_matrix():\n",
    "  pass\n",
    "\n",
    "\n",
    "def traceback():\n",
    "  pass"
   ],
   "metadata": {
    "id": "e4lTFdeBysji"
   },
   "execution_count": null,
   "outputs": []
  },
  {
   "cell_type": "markdown",
   "source": [
    "<h2> Task 14. Time complexity of The Needleman-Wunch Algorithm </h2>\n",
    "\n",
    "\n",
    "1.   What is the time complexity of The Needleman-Wunch Algorith? Both filling in and traceback\n",
    "2.   Why?\n",
    "3.   When we say time complexity, we mean O() annotation. This means worst possible case. Using the implementation from Task 12. demonstrate the worst time complexity or worst possible case."
   ],
   "metadata": {
    "id": "MeSGu-zHzHX8"
   }
  },
  {
   "cell_type": "markdown",
   "source": [
    "Your answer here...."
   ],
   "metadata": {
    "id": "csWYPcpiz8lZ"
   }
  },
  {
   "cell_type": "code",
   "source": [
    "# Demonstration of worst time complexity"
   ],
   "metadata": {
    "id": "yxXOXrOfz7uJ"
   },
   "execution_count": null,
   "outputs": []
  },
  {
   "cell_type": "markdown",
   "source": [
    "<h2> Task 15. Implement basic Gradient Descent </h2>\n",
    "The goal of this task is to implement the Basic Gradient Descent algorithm to optimize a given objective function.\n",
    "\n",
    "\n",
    "\n",
    "1.   Select an Objective Function, I would recommend quadratic because this is often used in examples. f(x)=ax^2 + bx + c. Feel free to try complex ones used in tasks above\n",
    "\n",
    "2.   Define a function to compute the gradient of the objective function. We will assume we do not know how to compute the gradient, therefore we have to estimate it. Implement numerical gradient estimation\n",
    "3.   Update Rule: Implement the update rule for the gradient descent based on learning rate\n"
   ],
   "metadata": {
    "id": "9EDL6YpU0AyY"
   }
  },
  {
   "cell_type": "code",
   "source": [
    "# Define the objective function\n",
    "def quadratic_objective_function(x):\n",
    "    return (x - 3)**2 + 1\n",
    "\n",
    "# Define the numerical gradient estimation\n",
    "def numerical_gradient(f, x, h=1e-5):\n",
    "    '''\n",
    "      Implement numerical gradient estimation\n",
    "    '''\n",
    "    pass\n",
    "\n",
    "def gradient_descent(starting_point, learning_rate, num_iterations):\n",
    "    x = starting_point\n",
    "    x_history = []  # To store the history of x values, for visuzalizaton\n",
    "    f_history = []  # To store the history of function values, for visuzalizaton\n",
    "\n",
    "    for _ in range(num_iterations):\n",
    "    '''\n",
    "      Implement basic gradient descent\n",
    "    '''\n",
    "\n",
    "    return x, f_history, x_history"
   ],
   "metadata": {
    "id": "Vg-_2PD50n91"
   },
   "execution_count": null,
   "outputs": []
  },
  {
   "cell_type": "markdown",
   "source": [
    "<h2> Task 16. Experiment basic Gradient Descent </h2>\n",
    "To compare the effect of varying the step size h used in the numerical gradient estimation and the learning rate in the Gradient Descent algorithm, we will set up an experiment using both the exact gradient of a quadratic function and the numerically estimated gradient. We will analyze how changes in ℎ and the learning rate (lr) affect convergence.\n",
    "\n",
    "\n",
    "\n",
    "1.   Experiment with lr,h and exact derivative vs numerical estimate\n",
    "2.   Record and visualize results\n",
    "3.   Use f_history and x_history to visualize path during the optimization\n",
    "4.   Draw conclusions and support them with figures from (3.). How is h and lr affecting convergance? Exact derivative vs numerical estimate?\n"
   ],
   "metadata": {
    "id": "QRCwij8T2Q7K"
   }
  },
  {
   "cell_type": "code",
   "source": [
    "# What is the exact derivative of quadratic_objective_function\n",
    "def the_exact_derivative(x):\n",
    "  pass\n",
    "\n",
    "# Change those accordingly\n",
    "starting_point = 5  # Starting point for the gradient descent\n",
    "h_values = [0.1, 1e-5, 1e-10, ...]  # Different step sizes for numerical gradient. Evaluate more than 3 values\n",
    "learning_rates = [0.1, 0.01, 0.5, ...]  # Different learning rates. Evaluate more than 3 values\n",
    "num_iterations = 20  # Number of iterations\n",
    "\n",
    "results = {} # Store results\n",
    "for h in h_values:\n",
    "    for lr in learning_rates:\n",
    "      '''\n",
    "        Run gradient descent with exact derivative\n",
    "        Run gradient descent with numerical estimate\n",
    "        Record h,lr, convergance time (did it converge), other important metrics you want to compare, path (history)\n",
    "      '''"
   ],
   "metadata": {
    "id": "weGpeDuZ2fkv"
   },
   "execution_count": null,
   "outputs": []
  },
  {
   "cell_type": "markdown",
   "source": [
    "Your answer here"
   ],
   "metadata": {
    "id": "YLZycaCW4YaU"
   }
  },
  {
   "cell_type": "markdown",
   "source": [
    "<h2> Task 17. The end game - part 1</h2>\n",
    "The goal of this task is to tackle a challenging optimization problem using different optimization algorithms. The problem is defined bellow, select appropriate algorithms, compare their performances, and utilize a simpler algorithm (Hill Climber) to fine-tune hyperparameters for more complex algorithms.\n",
    "\n",
    "\n",
    "1.   Understand the Problem: Clearly define the optimization problem, including the objective function, constraints, and any relevant parameters.\n",
    "\n",
    "2.   Select Algorithms: Choose at least two algorithms for the problem optimization. Justify the choice of algorithms based on their suitability for the selected problem.\n",
    "3. Implement the Algorithms\n",
    "4. Hyperparameter Optimization with a Simple Algorithm (Hill Climber)\n",
    "5. Experimentation and Comparison: Run experiments using the implemented algorithms with the chosen hyperparameters.\n",
    "Record metrics such as: Best solution found, Execution time, Number of iterations/generations. Analyze and compare the performance of the algorithms based on these metrics.\n",
    "6. Analyze Results: Create plots to visualize the performance of the algorithms\n",
    "\n",
    "Problem Definition\n",
    "In the Vehicle Routing Problem VRP, the goal is to determine the optimal routes for a fleet of vehicles to service a set of customers while minimizing the total distance traveled, respecting vehicle capacities and customer demands.\n",
    "\n",
    "*  Multiple Vehicles with Different Capacities: Instead of having vehicles with the same capacity, introduce vehicles that have different maximum capacities.\n",
    "\n",
    "*  Time Windows: Each customer can have specific time windows during which they must be serviced. If a vehicle arrives outside of this window, it may incur a penalty or be unable to service that customer.\n",
    "\n",
    "*  Service Times: Include service times at each customer location. This means that the total route time will be affected not only by travel distance but also by the time spent servicing each customer.\n",
    "\n",
    "*  Limited Number of Routes: Set a limit on the number of routes that can be used, forcing optimization under tighter constraints.\n",
    "\n",
    "*  Penalty for Late Deliveries: Introduce a penalty for delivering goods late, based on how late the vehicle arrives at a customer.\n",
    "\n",
    "<h3>Params in the data </h3>\n",
    "\n",
    "<p> demand:This represents the quantity of goods or services that the customer\n",
    "requires. It is important for the vehicle routing problem as it dictates how much of the vehicle's capacity is used when serving that customer. For example, if a customer has a demand of 10, the vehicle must have at least that much capacity to service this customer. </p>\n",
    "<p> (x, y): This tuple represents the coordinates of the customer's location on a two-dimensional plane. The coordinates are used to calculate the distance between customers and the depot. For example, (3, 5) means the customer is located at 3 units on the x-axis and 5 units on the y-axis. </p>\n",
    "<p> service_time: This indicates the amount of time required to service the customer once the vehicle arrives at their location. Service time affects the overall route time, as it adds to the total time spent at each customer before moving on to the next one. </p>\n",
    "<p>  (earliest_time, latest_time): This tuple defines the time window during which the customer must be serviced.\n",
    "earliest_time: The earliest moment the vehicle can arrive at the customer's location. </p>\n",
    "<p>  latest_time: The latest moment the vehicle can arrive without incurring a penalty or missing the service. This aspect is crucial for routing decisions, as it adds constraints to the schedule that must be respected. </p>"
   ],
   "metadata": {
    "id": "Oq8tdTvx4aKv"
   }
  },
  {
   "cell_type": "code",
   "source": [
    "# Define the customers with (customer_id, demand, (x, y), service_time, (earliest_time, latest_time))\n",
    "\n",
    "customers = [\n",
    "    ('Customer1', 5, (1, 2), 2, (0, 10)),\n",
    "    ('Customer2', 10, (2, 3), 3, (2, 12)),\n",
    "    ('Customer3', 8, (3, 1), 1, (1, 8)),\n",
    "    ('Customer4', 6, (4, 4), 2, (3, 15)),\n",
    "    ('Customer5', 12, (5, 5), 4, (5, 15)),\n",
    "    ('Customer6', 7, (6, 2), 1, (0, 5)),\n",
    "    ('Customer7', 15, (7, 8), 3, (5, 20)),\n",
    "    ('Customer8', 4, (8, 3), 2, (3, 9)),\n",
    "    ('Customer9', 9, (1, 7), 1, (2, 10)),\n",
    "    ('Customer10', 11, (4, 6), 2, (4, 14)),\n",
    "    ('Customer11', 14, (2, 5), 3, (1, 9)),\n",
    "    ('Customer12', 6, (5, 7), 2, (3, 12)),\n",
    "    ('Customer13', 10, (3, 3), 4, (2, 10)),\n",
    "    ('Customer14', 8, (6, 5), 1, (0, 4)),\n",
    "    ('Customer15', 12, (1, 4), 2, (1, 7)),\n",
    "    ('Customer16', 5, (4, 2), 3, (3, 8)),\n",
    "    ('Customer17', 7, (8, 6), 1, (4, 10)),\n",
    "    ('Customer18', 9, (5, 3), 2, (2, 9)),\n",
    "    ('Customer19', 11, (3, 6), 2, (4, 11)),\n",
    "    ('Customer20', 13, (2, 8), 4, (3, 15)),\n",
    "]\n",
    "# Define the depot location\n",
    "depot = (0, 0)\n",
    "\n",
    "# Define the vehicles with different capacities\n",
    "vehicles = [\n",
    "    {'vehicle_id': 'Vehicle1', 'capacity': 20},\n",
    "    {'vehicle_id': 'Vehicle2', 'capacity': 15},\n",
    "    {'vehicle_id': 'Vehicle3', 'capacity': 25},\n",
    "]\n",
    "\n",
    "# Routing rules\n",
    "routing_rules = {\n",
    "    'max_distance_per_route': 30,  # Maximum distance a vehicle can travel in one route\n",
    "    'max_customers_per_route': 5,   # Maximum number of customers a vehicle can serve in one route\n",
    "}"
   ],
   "metadata": {
    "id": "118tXJli6rrf"
   },
   "execution_count": null,
   "outputs": []
  },
  {
   "cell_type": "markdown",
   "source": [
    "<h2> Task 18. The end game - part 2 </h2>\n",
    "The goal of this task is for you to research, implement, and analyze a <b> at least two </b> metaheuristic optimization algorithm that was not covered in class. You will apply the algorithm to a chosen optimization problem, demonstrating its effectiveness and comparing it to other methods.\n",
    "<p> Some ideas: </p>\n",
    "Gravitational Search Algorithm, Bat Algorithm, Differential Evolution (DE), Cuckoo Search (CS), Firefly Algorithm, Harmony Search (HS), Tabu Search, Affine GAP Cost Needleman-Wunch etc....\n",
    "<h3> There are many algorithms to consider...</h3>\n",
    "You have to:\n",
    "\n",
    "\n",
    "*   Implement the algorithm\n",
    "*   What is the time complexity?\n",
    "*   Analyze hyperparams\n",
    "*   Visualize the performance\n",
    "*   Pick objective function of your choice\n",
    "\n",
    "\n"
   ],
   "metadata": {
    "id": "k7R98Bqv9HwI"
   }
  },
  {
   "cell_type": "code",
   "source": [],
   "metadata": {
    "id": "AxHGzql99n2F"
   },
   "execution_count": null,
   "outputs": []
  }
 ]
}
